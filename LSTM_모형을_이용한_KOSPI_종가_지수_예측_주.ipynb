{
  "nbformat": 4,
  "nbformat_minor": 0,
  "metadata": {
    "colab": {
      "name": "LSTM 모형을 이용한 KOSPI 종가 지수 예측_주.ipynb",
      "provenance": [],
      "collapsed_sections": []
    },
    "kernelspec": {
      "name": "python3",
      "display_name": "Python 3"
    },
    "language_info": {
      "name": "python"
    },
    "accelerator": "GPU"
  },
  "cells": [
    {
      "cell_type": "code",
      "execution_count": null,
      "metadata": {
        "colab": {
          "base_uri": "https://localhost:8080/"
        },
        "id": "vS0_QdH_pcQV",
        "outputId": "d281d3d8-447d-443e-fef4-849c57ba097c"
      },
      "outputs": [
        {
          "output_type": "stream",
          "name": "stdout",
          "text": [
            "Looking in indexes: https://pypi.org/simple, https://us-python.pkg.dev/colab-wheels/public/simple/\n",
            "Collecting finance-datareader\n",
            "  Downloading finance_datareader-0.9.34-py3-none-any.whl (17 kB)\n",
            "Requirement already satisfied: requests>=2.3.0 in /usr/local/lib/python3.7/dist-packages (from finance-datareader) (2.23.0)\n",
            "Collecting requests-file\n",
            "  Downloading requests_file-1.5.1-py2.py3-none-any.whl (3.7 kB)\n",
            "Requirement already satisfied: lxml in /usr/local/lib/python3.7/dist-packages (from finance-datareader) (4.2.6)\n",
            "Requirement already satisfied: tqdm in /usr/local/lib/python3.7/dist-packages (from finance-datareader) (4.64.0)\n",
            "Requirement already satisfied: pandas>=0.19.2 in /usr/local/lib/python3.7/dist-packages (from finance-datareader) (1.3.5)\n",
            "Requirement already satisfied: pytz>=2017.3 in /usr/local/lib/python3.7/dist-packages (from pandas>=0.19.2->finance-datareader) (2022.1)\n",
            "Requirement already satisfied: python-dateutil>=2.7.3 in /usr/local/lib/python3.7/dist-packages (from pandas>=0.19.2->finance-datareader) (2.8.2)\n",
            "Requirement already satisfied: numpy>=1.17.3 in /usr/local/lib/python3.7/dist-packages (from pandas>=0.19.2->finance-datareader) (1.21.6)\n",
            "Requirement already satisfied: six>=1.5 in /usr/local/lib/python3.7/dist-packages (from python-dateutil>=2.7.3->pandas>=0.19.2->finance-datareader) (1.15.0)\n",
            "Requirement already satisfied: urllib3!=1.25.0,!=1.25.1,<1.26,>=1.21.1 in /usr/local/lib/python3.7/dist-packages (from requests>=2.3.0->finance-datareader) (1.24.3)\n",
            "Requirement already satisfied: idna<3,>=2.5 in /usr/local/lib/python3.7/dist-packages (from requests>=2.3.0->finance-datareader) (2.10)\n",
            "Requirement already satisfied: certifi>=2017.4.17 in /usr/local/lib/python3.7/dist-packages (from requests>=2.3.0->finance-datareader) (2022.6.15)\n",
            "Requirement already satisfied: chardet<4,>=3.0.2 in /usr/local/lib/python3.7/dist-packages (from requests>=2.3.0->finance-datareader) (3.0.4)\n",
            "Installing collected packages: requests-file, finance-datareader\n",
            "Successfully installed finance-datareader-0.9.34 requests-file-1.5.1\n",
            "Looking in indexes: https://pypi.org/simple, https://us-python.pkg.dev/colab-wheels/public/simple/\n",
            "Requirement already satisfied: pandas in /usr/local/lib/python3.7/dist-packages (1.3.5)\n",
            "Requirement already satisfied: pytz>=2017.3 in /usr/local/lib/python3.7/dist-packages (from pandas) (2022.1)\n",
            "Requirement already satisfied: python-dateutil>=2.7.3 in /usr/local/lib/python3.7/dist-packages (from pandas) (2.8.2)\n",
            "Requirement already satisfied: numpy>=1.17.3 in /usr/local/lib/python3.7/dist-packages (from pandas) (1.21.6)\n",
            "Requirement already satisfied: six>=1.5 in /usr/local/lib/python3.7/dist-packages (from python-dateutil>=2.7.3->pandas) (1.15.0)\n"
          ]
        }
      ],
      "source": [
        "# https://github.com/FinanceData/FinanceDataReader 참고\n",
        "!pip install finance-datareader\n",
        "!pip install --upgrade pandas"
      ]
    },
    {
      "cell_type": "code",
      "source": [
        "!pwd"
      ],
      "metadata": {
        "colab": {
          "base_uri": "https://localhost:8080/"
        },
        "id": "15KTRO9YEuDo",
        "outputId": "c64c7520-8612-4286-e27f-352d7e5a0a66"
      },
      "execution_count": null,
      "outputs": [
        {
          "output_type": "stream",
          "name": "stdout",
          "text": [
            "/content\n"
          ]
        }
      ]
    },
    {
      "cell_type": "code",
      "source": [
        "!dir"
      ],
      "metadata": {
        "colab": {
          "base_uri": "https://localhost:8080/"
        },
        "id": "PxDBB2kWH3Re",
        "outputId": "21cd5e7e-7a06-475b-afab-4cdb43fe6310"
      },
      "execution_count": null,
      "outputs": [
        {
          "output_type": "stream",
          "name": "stdout",
          "text": [
            "drive  sample_data\n"
          ]
        }
      ]
    },
    {
      "cell_type": "code",
      "source": [
        "%cd /content/drive/MyDrive/lstm"
      ],
      "metadata": {
        "id": "Pf6TAobJEw4I",
        "colab": {
          "base_uri": "https://localhost:8080/"
        },
        "outputId": "396c47ac-9492-40b5-e3ab-7746f30cfdca"
      },
      "execution_count": null,
      "outputs": [
        {
          "output_type": "stream",
          "name": "stdout",
          "text": [
            "/content/drive/MyDrive/lstm\n"
          ]
        }
      ]
    },
    {
      "cell_type": "code",
      "source": [
        "import FinanceDataReader as fdr\n",
        "import pandas as pd\n",
        "import pandas_datareader as pdr\n",
        "import os\n",
        "import time\n",
        "import numpy as np\n",
        "from datetime import datetime\n",
        "\n",
        "import matplotlib.pyplot as plt\n",
        "import seaborn as sns\n",
        "import warnings\n",
        "\n",
        "%matplotlib inline\n",
        "warnings.filterwarnings('ignore')\n",
        "\n",
        "plt.rcParams['font.family'] = 'NanumGothic'"
      ],
      "metadata": {
        "id": "yAIOmlLxpxzd"
      },
      "execution_count": null,
      "outputs": []
    },
    {
      "cell_type": "markdown",
      "source": [
        "## **WTI 원유 네이버 금융 크롤링**"
      ],
      "metadata": {
        "id": "ICMf6vqE9TOE"
      }
    },
    {
      "cell_type": "code",
      "source": [
        "# WTI 웹 크롤링 함수\n",
        "def get_oil_price(code):\n",
        "    delay = 0.01\n",
        "    page = 1\n",
        "    result = []\n",
        "    start_time = datetime.now()\n",
        "    \n",
        "    print('[{}] 데이터 수집 시작. (code: {})'.format(start_time.strftime('%Y/%m/%d %H:%M:%S'), code))\n",
        "    while(True):\n",
        "        url = 'https://finance.naver.com/marketindex/worldDailyQuote.nhn?marketindexCd={}&fdtc=2&page={}'.format(code, page)\n",
        "        data = pd.read_html(url)[0].dropna()\n",
        "        if page !=1:\n",
        "            try:\n",
        "                if data.iloc[-1,0] == result[-1].iloc[-1,0]:\n",
        "                    break\n",
        "            except:\n",
        "                break\n",
        "        result.append(data)\n",
        "        page += 1\n",
        "        time.sleep(delay)\n",
        "    \n",
        "    oil_price = pd.concat(result).reset_index(drop=True) #결과물을 데이터 프레임 형식으로 변환합니다\n",
        "    oil_price.columns = ['날짜', '종가', '전일대비', '등락율']\n",
        "    oil_price['날짜'] = oil_price['날짜'].apply(lambda x: datetime.strptime(x, '%Y.%m.%d'))\n",
        "    oil_price = oil_price[['날짜', '종가']]\n",
        "    oil_price.insert(0, '코드', code) #유가 종류에 대한 컬럼 생성\n",
        "    \n",
        "    end_time = datetime.now()\n",
        "    print('[{}] 데이터 수집 종료. (code: {}, 수집시간: {}초, 데이터수: {:,}개)'.format(end_time.strftime('%Y/%m/%d %H:%M:%S'), code, (end_time-start_time).seconds, len(oil_price)))\n",
        "    return oil_price"
      ],
      "metadata": {
        "id": "y0YiVTOdQYJl"
      },
      "execution_count": null,
      "outputs": []
    },
    {
      "cell_type": "markdown",
      "source": [
        "### **거시 경제 변수 DATA 받아오기**"
      ],
      "metadata": {
        "id": "0D4PTy5pthFa"
      }
    },
    {
      "cell_type": "code",
      "source": [
        "kospi = fdr.DataReader('KS11', '2002-01-01', '2021-12-31') # KOSPI 200 지수\n",
        "vix = fdr.DataReader('VIX', '2002-01-01', '2021-12-31') # VIX 지수\n",
        "sp500 = fdr.DataReader('US500', '2002-01-01', '2021-12-31') # S&P500 지수 (NYSE)\n",
        "dji = fdr.DataReader('DJI', '2002-01-01', '2021-12-31') # 다우 존스 지수 (DJI)\n",
        "usdkrw = fdr.DataReader('USD/KRW', '2002-01-01', '2021-12-31') # 달러 원화\n",
        "eurkrw = fdr.DataReader('EUR/KRW', '2002-01-01', '2021-12-31') # 유로 원화\n",
        "cnykrw = fdr.DataReader('CNY/KRW', '2002-01-01', '2021-12-31') # 위안 원화\n",
        "jpykrw = fdr.DataReader('JPY/KRW','2002-01-01', '2021-12-31') # 옌 원화\n",
        "cl = fdr.DataReader('CL') # WTI유 선물 (NYMEX)\n",
        "kr1yt = fdr.DataReader('KR1YT=RR') #1년 만기 한국국채 수익률\n",
        "kr10yt = fdr.DataReader('KR10YT=RR') #10년 만기 한국국채 수익률\n",
        "us1mt = fdr.DataReader('US1MT=X') # 1년 만기 미국국채 수익률\n",
        "us10yt = fdr.DataReader('US10YT=X') # 10년 만기 미국국채 수익률"
      ],
      "metadata": {
        "id": "9Vqu2rorqG8M"
      },
      "execution_count": null,
      "outputs": []
    },
    {
      "cell_type": "code",
      "source": [
        "print(us1mt.head(5))"
      ],
      "metadata": {
        "colab": {
          "base_uri": "https://localhost:8080/"
        },
        "id": "YiHT9R8wvHyo",
        "outputId": "137f63ca-78b4-4de5-fc3a-c71a43ae69d1"
      },
      "execution_count": null,
      "outputs": [
        {
          "output_type": "stream",
          "name": "stdout",
          "text": [
            "            Close   Open   High    Low  Change\n",
            "Date                                          \n",
            "2001-12-27  1.751  1.751  1.751  1.751 -0.0057\n",
            "2001-12-28  1.720  1.720  1.720  1.720 -0.0177\n",
            "2001-12-31  1.720  1.720  1.720  1.720  0.0000\n",
            "2002-01-02  1.740  1.740  1.740  1.740  0.0116\n",
            "2002-01-03  1.720  1.720  1.720  1.720 -0.0115\n"
          ]
        }
      ]
    },
    {
      "cell_type": "code",
      "source": [
        "# oil_price_wti = get_oil_price('OIL_CL')"
      ],
      "metadata": {
        "colab": {
          "base_uri": "https://localhost:8080/"
        },
        "id": "RMwtW4MYQZ0E",
        "outputId": "f6596cb3-d4b1-4145-da5a-af372a8b8289"
      },
      "execution_count": null,
      "outputs": [
        {
          "output_type": "stream",
          "name": "stdout",
          "text": [
            "[2022/06/24 12:21:37] 데이터 수집 시작. (code: OIL_CL)\n",
            "[2022/06/24 12:24:19] 데이터 수집 종료. (code: OIL_CL, 수집시간: 161초, 데이터수: 3,863개)\n"
          ]
        }
      ]
    },
    {
      "cell_type": "markdown",
      "source": [
        "### **거시 변수 EXCEL파일로 변환**"
      ],
      "metadata": {
        "id": "hQ213zFHtkrs"
      }
    },
    {
      "cell_type": "code",
      "source": [
        "kospi.to_excel('kospi_raw.xlsx')\n",
        "vix.to_excel('vix_raw.xlsx')\n",
        "sp500.to_excel('sp500_raw.xlsx')\n",
        "dji.to_excel('dji_raw.xlsx')\n",
        "usdkrw.to_excel('usdkrw_raw.xlsx')\n",
        "eurkrw.to_excel('eurkrw_raw.xlsx')\n",
        "cnykrw.to_excel('cnykrw_raw.xlsx')\n",
        "jpykrw.to_excel('jpykrw_raw.xlsx')\n",
        "cl.to_excel('cl_raw.xlsx')\n",
        "kr1yt.to_excel('kr1yt_raw.xlsx')\n",
        "kr10yt.to_excel('kr10yt_raw.xlsx')\n",
        "us1mt.to_excel('us1mt_raw.xlsx')\n",
        "us10yt.to_excel('us10yt_raw.xlsx')"
      ],
      "metadata": {
        "id": "qjkcY5miGL1B",
        "colab": {
          "base_uri": "https://localhost:8080/",
          "height": 245
        },
        "outputId": "cf878fe3-acce-4446-95ed-f9e2a38c60d0"
      },
      "execution_count": null,
      "outputs": [
        {
          "output_type": "error",
          "ename": "NameError",
          "evalue": "ignored",
          "traceback": [
            "\u001b[0;31m---------------------------------------------------------------------------\u001b[0m",
            "\u001b[0;31mNameError\u001b[0m                                 Traceback (most recent call last)",
            "\u001b[0;32m<ipython-input-4-8e679c924db2>\u001b[0m in \u001b[0;36m<module>\u001b[0;34m()\u001b[0m\n\u001b[0;32m----> 1\u001b[0;31m \u001b[0mkospi\u001b[0m\u001b[0;34m.\u001b[0m\u001b[0mto_excel\u001b[0m\u001b[0;34m(\u001b[0m\u001b[0;34m'kospi_raw.xlsx'\u001b[0m\u001b[0;34m)\u001b[0m\u001b[0;34m\u001b[0m\u001b[0;34m\u001b[0m\u001b[0m\n\u001b[0m\u001b[1;32m      2\u001b[0m \u001b[0mvix\u001b[0m\u001b[0;34m.\u001b[0m\u001b[0mto_excel\u001b[0m\u001b[0;34m(\u001b[0m\u001b[0;34m'vix_raw.xlsx'\u001b[0m\u001b[0;34m)\u001b[0m\u001b[0;34m\u001b[0m\u001b[0;34m\u001b[0m\u001b[0m\n\u001b[1;32m      3\u001b[0m \u001b[0msp500\u001b[0m\u001b[0;34m.\u001b[0m\u001b[0mto_excel\u001b[0m\u001b[0;34m(\u001b[0m\u001b[0;34m'sp500_raw.xlsx'\u001b[0m\u001b[0;34m)\u001b[0m\u001b[0;34m\u001b[0m\u001b[0;34m\u001b[0m\u001b[0m\n\u001b[1;32m      4\u001b[0m \u001b[0mdji\u001b[0m\u001b[0;34m.\u001b[0m\u001b[0mto_excel\u001b[0m\u001b[0;34m(\u001b[0m\u001b[0;34m'dji_raw.xlsx'\u001b[0m\u001b[0;34m)\u001b[0m\u001b[0;34m\u001b[0m\u001b[0;34m\u001b[0m\u001b[0m\n\u001b[1;32m      5\u001b[0m \u001b[0musdkrw\u001b[0m\u001b[0;34m.\u001b[0m\u001b[0mto_excel\u001b[0m\u001b[0;34m(\u001b[0m\u001b[0;34m'usdkrw_raw.xlsx'\u001b[0m\u001b[0;34m)\u001b[0m\u001b[0;34m\u001b[0m\u001b[0;34m\u001b[0m\u001b[0m\n",
            "\u001b[0;31mNameError\u001b[0m: name 'kospi' is not defined"
          ]
        }
      ]
    },
    {
      "cell_type": "markdown",
      "source": [
        "### **Google drive에 저장된 변수 불러오기**"
      ],
      "metadata": {
        "id": "WYNoDFEdtofI"
      }
    },
    {
      "cell_type": "code",
      "source": [
        "kospi = pd.read_excel('kospi_raw.xlsx')\n",
        "vix = pd.read_excel('vix_raw.xlsx')\n",
        "sp500 = pd.read_excel('sp500_raw.xlsx')\n",
        "dji = pd.read_excel('dji_raw.xlsx')\n",
        "usdkrw = pd.read_excel('usdkrw_raw.xlsx')\n",
        "eurkrw = pd.read_excel('eurkrw_raw.xlsx')\n",
        "cnykrw = pd.read_excel('cnykrw_raw.xlsx')\n",
        "jpykrw = pd.read_excel('jpykrw_raw.xlsx')\n",
        "cl = pd.read_excel('cl_raw.xlsx')\n",
        "kr1yt = pd.read_excel('kr1yt_raw.xlsx')\n",
        "kr10yt = pd.read_excel('kr10yt_raw.xlsx')\n",
        "us1mt = pd.read_excel('us1mt_raw.xlsx')\n",
        "us10yt = pd.read_excel('us10yt_raw.xlsx')"
      ],
      "metadata": {
        "id": "bicBhACQGl0t"
      },
      "execution_count": null,
      "outputs": []
    },
    {
      "cell_type": "markdown",
      "source": [
        "### **데이터 전처리 과정**"
      ],
      "metadata": {
        "id": "ekNrIgER320d"
      }
    },
    {
      "cell_type": "code",
      "source": [
        "# INDEX를 Date로 지정\n",
        "kospi.set_index(keys='Date', inplace=True, drop=True)\n",
        "vix.set_index(keys='Date', inplace=True, drop=True)\n",
        "sp500.set_index(keys='Date', inplace=True, drop=True)\n",
        "dji.set_index(keys='Date', inplace=True, drop=True)\n",
        "usdkrw.set_index(keys='Date', inplace=True, drop=True)\n",
        "eurkrw.set_index(keys='Date', inplace=True, drop=True)\n",
        "cnykrw.set_index(keys='Date', inplace=True, drop=True)\n",
        "jpykrw.set_index(keys='Date', inplace=True, drop=True)\n",
        "cl.set_index(keys='Date', inplace=True, drop=True)\n",
        "kr1yt.set_index(keys='Date', inplace=True, drop=True)\n",
        "kr10yt.set_index(keys='Date', inplace=True, drop=True)\n",
        "us1mt.set_index(keys='Date', inplace=True, drop=True)\n",
        "us10yt.set_index(keys='Date', inplace=True, drop=True)"
      ],
      "metadata": {
        "id": "FOyVK4UEIirp"
      },
      "execution_count": null,
      "outputs": []
    },
    {
      "cell_type": "code",
      "source": [
        "# 날짜 일치\n",
        "cl = cl.loc['2002-01-01':'2021-12-31']\n",
        "kr1yt = kr1yt.loc['2002-01-01':'2021-12-31']\n",
        "kr10yt = kr10yt.loc['2002-01-01':'2021-12-31']\n",
        "us1mt = us1mt.loc['2002-01-01':'2021-12-31']\n",
        "us10yt = us10yt.loc['2002-01-01':'2021-12-31']"
      ],
      "metadata": {
        "id": "NmFjQ1Rtyo0c"
      },
      "execution_count": null,
      "outputs": []
    },
    {
      "cell_type": "code",
      "source": [
        "# 개수 확인\n",
        "\n",
        "print(\"KOSPI data 개수 :\", len(kospi))\n",
        "print(\"VIX data 개수 :\", len(vix))\n",
        "print(\"SP500 data 개수 :\", len(sp500))\n",
        "print(\"DJI data 개수 :\", len(dji))\n",
        "print(\"USD/KRW 환율 data 개수 :\", len(usdkrw))\n",
        "print(\"EUR/KRW 환율 data 개수 :\", len(eurkrw))\n",
        "print(\"CNY/KRW 환율 data 개수 :\", len(cnykrw))\n",
        "print(\"JPY/KRW 환율 data 개수 :\", len(jpykrw))\n",
        "print(\"cl data 개수 :\", len(cl))\n",
        "print(\"kr1yt data 개수 :\", len(kr1yt))\n",
        "print(\"kr10yt data 개수 :\", len(kr10yt))\n",
        "print(\"us1mt data 개수 :\", len(us1mt))\n",
        "print(\"us10yt data 개수 :\", len(us10yt))"
      ],
      "metadata": {
        "id": "iTc0tqwEwT1s",
        "colab": {
          "base_uri": "https://localhost:8080/"
        },
        "outputId": "dc31826a-4040-485c-b493-3f88ba51db54"
      },
      "execution_count": null,
      "outputs": [
        {
          "output_type": "stream",
          "name": "stdout",
          "text": [
            "KOSPI data 개수 : 4946\n",
            "VIX data 개수 : 5044\n",
            "SP500 data 개수 : 5036\n",
            "DJI data 개수 : 5036\n",
            "USD/KRW 환율 data 개수 : 5216\n",
            "EUR/KRW 환율 data 개수 : 5217\n",
            "CNY/KRW 환율 data 개수 : 5215\n",
            "JPY/KRW 환율 data 개수 : 5215\n",
            "cl data 개수 : 10659\n",
            "kr1yt data 개수 : 6864\n",
            "kr10yt data 개수 : 5755\n",
            "us1mt data 개수 : 5696\n",
            "us10yt data 개수 : 11295\n"
          ]
        }
      ]
    },
    {
      "cell_type": "markdown",
      "source": [
        "### **INNER JOIN을 통한 데이터 통일**"
      ],
      "metadata": {
        "id": "7N8tCQps4Bts"
      }
    },
    {
      "cell_type": "code",
      "source": [
        "kopsi_vix_innerjoin = pd.merge(kospi['Close'], vix['Close'], how = 'inner', on = 'Date')\n",
        "kopsi_vix_innerjoin.rename(columns = {'Close_x' : 'kospi'}, inplace = True)\n",
        "kopsi_vix_innerjoin.rename(columns = {'Close_y' : 'vix'}, inplace = True)\n",
        "\n",
        "sp500_dji_innerjoin = pd.merge(sp500['Close'], dji['Close'], how = 'inner', on = 'Date')\n",
        "sp500_dji_innerjoin.rename(columns = {'Close_x' : 'sp500'}, inplace = True)\n",
        "sp500_dji_innerjoin.rename(columns = {'Close_y' : 'dji'}, inplace = True)\n",
        "\n",
        "usdkrw_eurkrw_innerjoin = pd.merge(usdkrw['Close'], eurkrw['Close'], how = 'inner', on = 'Date')\n",
        "usdkrw_eurkrw_innerjoin.rename(columns = {'Close_x' : 'usdkrw'}, inplace = True)\n",
        "usdkrw_eurkrw_innerjoin.rename(columns = {'Close_y' : 'eurkrw'}, inplace = True)\n",
        "\n",
        "cnykrw_jpykrw_innerjoin = pd.merge(cnykrw['Close'], jpykrw['Close'], how = 'inner', on = 'Date')\n",
        "cnykrw_jpykrw_innerjoin.rename(columns = {'Close_x' : 'cnykrw'}, inplace = True)\n",
        "cnykrw_jpykrw_innerjoin.rename(columns = {'Close_y' : 'jpykrw'}, inplace = True)\n",
        "\n",
        "kr1yt_kr10yt_innerjoin = pd.merge(kr1yt['Close'], kr10yt['Close'], how = 'inner', on = 'Date')\n",
        "kr1yt_kr10yt_innerjoin.rename(columns = {'Close_x' : 'kr1yt'}, inplace = True)\n",
        "kr1yt_kr10yt_innerjoin.rename(columns = {'Close_y' : 'kr10yt'}, inplace = True)\n",
        "\n",
        "cl_rename = cl.rename(columns = {'Close' : 'wti'}, inplace = True)\n",
        "cl_kk_innerjoin = pd.merge(cl['wti'], kr1yt_kr10yt_innerjoin, how = 'inner', on = 'Date')\n",
        "\n",
        "us1mt_us10yt_innerjoin = pd.merge(us1mt['Close'], us10yt['Close'], how = 'inner', on = 'Date')\n",
        "us1mt_us10yt_innerjoin.rename(columns = {'Close_x' : 'us1mt'}, inplace = True)\n",
        "us1mt_us10yt_innerjoin.rename(columns = {'Close_y' : 'us10yt'}, inplace = True)\n",
        "\n",
        "kv_sd_innerjoin = pd.merge(kopsi_vix_innerjoin, sp500_dji_innerjoin, how = 'inner', on = 'Date')\n",
        "ue_cj_innerjoin = pd.merge(usdkrw_eurkrw_innerjoin, cnykrw_jpykrw_innerjoin, how = 'inner', on = 'Date')\n",
        "ck_uu_innerjoin = pd.merge(cl_kk_innerjoin, us1mt_us10yt_innerjoin, how = 'inner', on = 'Date')\n",
        "\n",
        "now_innerjoin = pd.merge(kv_sd_innerjoin, ue_cj_innerjoin, how = 'inner', on = 'Date')\n",
        "\n",
        "data = pd.merge(now_innerjoin, ck_uu_innerjoin, how = 'inner', on = 'Date')"
      ],
      "metadata": {
        "id": "bpwJ8wMTh1sp"
      },
      "execution_count": null,
      "outputs": []
    },
    {
      "cell_type": "markdown",
      "source": [
        "### **최종 데이터 Google Drive에 저장**"
      ],
      "metadata": {
        "id": "MRoax0FcQyu7"
      }
    },
    {
      "cell_type": "code",
      "source": [
        "data.to_excel('data.xlsx')"
      ],
      "metadata": {
        "id": "4Uh_VfFBJxiy"
      },
      "execution_count": null,
      "outputs": []
    },
    {
      "cell_type": "markdown",
      "source": [
        "## **Google Drive에서 불러오기**"
      ],
      "metadata": {
        "id": "wBE-zeLNQ2p3"
      }
    },
    {
      "cell_type": "code",
      "source": [
        "data = pd.read_excel('data.xlsx')"
      ],
      "metadata": {
        "id": "g1fXoLcc4O_z"
      },
      "execution_count": null,
      "outputs": []
    },
    {
      "cell_type": "code",
      "source": [
        "data.describe()"
      ],
      "metadata": {
        "colab": {
          "base_uri": "https://localhost:8080/",
          "height": 364
        },
        "id": "qU6saB_VR5Vw",
        "outputId": "b4b01d65-7b13-4222-bda9-69c8760132d2"
      },
      "execution_count": null,
      "outputs": [
        {
          "output_type": "execute_result",
          "data": {
            "text/plain": [
              "             kospi          vix        sp500           dji       usdkrw  \\\n",
              "count  3928.000000  3928.000000  3928.000000   3928.000000  3928.000000   \n",
              "mean   1902.188142    18.490652  1978.142391  17338.626624  1105.171589   \n",
              "std     518.622695     8.285237   896.380413   7163.387315    92.570722   \n",
              "min     541.780000     9.140000   682.550000   6594.440000   900.800000   \n",
              "25%    1637.955000    13.057500  1275.572500  11400.827500  1055.452500   \n",
              "50%    1964.730000    16.070000  1696.450000  15451.430000  1118.905000   \n",
              "75%    2108.995000    21.320000  2553.687500  23002.800000  1160.025000   \n",
              "max    3305.210000    82.690000  4793.060000  36488.630000  1570.650000   \n",
              "\n",
              "            eurkrw       cnykrw       jpykrw          wti        kr1yt  \\\n",
              "count  3928.000000  3928.000000  3928.000000  3928.000000  3928.000000   \n",
              "mean   1373.197709   162.141790    10.678101    53.989404     2.704189   \n",
              "std     141.973370    21.958165     1.828288    18.401414     1.383483   \n",
              "min    1135.510000   115.870000     7.456200    21.530000     0.000000   \n",
              "25%    1273.060000   152.415000     9.577225    36.595000     1.535000   \n",
              "50%    1338.030000   169.340000    10.293050    60.195000     2.650000   \n",
              "75%    1448.180000   176.182500    11.295075    69.792500     3.590000   \n",
              "max    1976.350000   229.490000    16.309900    86.260000     5.810000   \n",
              "\n",
              "            kr10yt        us1mt       us10yt  \n",
              "count  3928.000000  3928.000000  3928.000000  \n",
              "mean      3.437928     1.196978     2.793172  \n",
              "std       1.437497     1.567625     1.153609  \n",
              "min       0.000000    -0.041000     0.512000  \n",
              "25%       2.153750     0.043000     1.917750  \n",
              "50%       3.175000     0.204000     2.574000  \n",
              "75%       4.900000     1.995250     3.721250  \n",
              "max       7.270000     5.278000     5.289000  "
            ],
            "text/html": [
              "\n",
              "  <div id=\"df-d746282d-e106-4d3c-8628-e5bd0048a998\">\n",
              "    <div class=\"colab-df-container\">\n",
              "      <div>\n",
              "<style scoped>\n",
              "    .dataframe tbody tr th:only-of-type {\n",
              "        vertical-align: middle;\n",
              "    }\n",
              "\n",
              "    .dataframe tbody tr th {\n",
              "        vertical-align: top;\n",
              "    }\n",
              "\n",
              "    .dataframe thead th {\n",
              "        text-align: right;\n",
              "    }\n",
              "</style>\n",
              "<table border=\"1\" class=\"dataframe\">\n",
              "  <thead>\n",
              "    <tr style=\"text-align: right;\">\n",
              "      <th></th>\n",
              "      <th>kospi</th>\n",
              "      <th>vix</th>\n",
              "      <th>sp500</th>\n",
              "      <th>dji</th>\n",
              "      <th>usdkrw</th>\n",
              "      <th>eurkrw</th>\n",
              "      <th>cnykrw</th>\n",
              "      <th>jpykrw</th>\n",
              "      <th>wti</th>\n",
              "      <th>kr1yt</th>\n",
              "      <th>kr10yt</th>\n",
              "      <th>us1mt</th>\n",
              "      <th>us10yt</th>\n",
              "    </tr>\n",
              "  </thead>\n",
              "  <tbody>\n",
              "    <tr>\n",
              "      <th>count</th>\n",
              "      <td>3928.000000</td>\n",
              "      <td>3928.000000</td>\n",
              "      <td>3928.000000</td>\n",
              "      <td>3928.000000</td>\n",
              "      <td>3928.000000</td>\n",
              "      <td>3928.000000</td>\n",
              "      <td>3928.000000</td>\n",
              "      <td>3928.000000</td>\n",
              "      <td>3928.000000</td>\n",
              "      <td>3928.000000</td>\n",
              "      <td>3928.000000</td>\n",
              "      <td>3928.000000</td>\n",
              "      <td>3928.000000</td>\n",
              "    </tr>\n",
              "    <tr>\n",
              "      <th>mean</th>\n",
              "      <td>1902.188142</td>\n",
              "      <td>18.490652</td>\n",
              "      <td>1978.142391</td>\n",
              "      <td>17338.626624</td>\n",
              "      <td>1105.171589</td>\n",
              "      <td>1373.197709</td>\n",
              "      <td>162.141790</td>\n",
              "      <td>10.678101</td>\n",
              "      <td>53.989404</td>\n",
              "      <td>2.704189</td>\n",
              "      <td>3.437928</td>\n",
              "      <td>1.196978</td>\n",
              "      <td>2.793172</td>\n",
              "    </tr>\n",
              "    <tr>\n",
              "      <th>std</th>\n",
              "      <td>518.622695</td>\n",
              "      <td>8.285237</td>\n",
              "      <td>896.380413</td>\n",
              "      <td>7163.387315</td>\n",
              "      <td>92.570722</td>\n",
              "      <td>141.973370</td>\n",
              "      <td>21.958165</td>\n",
              "      <td>1.828288</td>\n",
              "      <td>18.401414</td>\n",
              "      <td>1.383483</td>\n",
              "      <td>1.437497</td>\n",
              "      <td>1.567625</td>\n",
              "      <td>1.153609</td>\n",
              "    </tr>\n",
              "    <tr>\n",
              "      <th>min</th>\n",
              "      <td>541.780000</td>\n",
              "      <td>9.140000</td>\n",
              "      <td>682.550000</td>\n",
              "      <td>6594.440000</td>\n",
              "      <td>900.800000</td>\n",
              "      <td>1135.510000</td>\n",
              "      <td>115.870000</td>\n",
              "      <td>7.456200</td>\n",
              "      <td>21.530000</td>\n",
              "      <td>0.000000</td>\n",
              "      <td>0.000000</td>\n",
              "      <td>-0.041000</td>\n",
              "      <td>0.512000</td>\n",
              "    </tr>\n",
              "    <tr>\n",
              "      <th>25%</th>\n",
              "      <td>1637.955000</td>\n",
              "      <td>13.057500</td>\n",
              "      <td>1275.572500</td>\n",
              "      <td>11400.827500</td>\n",
              "      <td>1055.452500</td>\n",
              "      <td>1273.060000</td>\n",
              "      <td>152.415000</td>\n",
              "      <td>9.577225</td>\n",
              "      <td>36.595000</td>\n",
              "      <td>1.535000</td>\n",
              "      <td>2.153750</td>\n",
              "      <td>0.043000</td>\n",
              "      <td>1.917750</td>\n",
              "    </tr>\n",
              "    <tr>\n",
              "      <th>50%</th>\n",
              "      <td>1964.730000</td>\n",
              "      <td>16.070000</td>\n",
              "      <td>1696.450000</td>\n",
              "      <td>15451.430000</td>\n",
              "      <td>1118.905000</td>\n",
              "      <td>1338.030000</td>\n",
              "      <td>169.340000</td>\n",
              "      <td>10.293050</td>\n",
              "      <td>60.195000</td>\n",
              "      <td>2.650000</td>\n",
              "      <td>3.175000</td>\n",
              "      <td>0.204000</td>\n",
              "      <td>2.574000</td>\n",
              "    </tr>\n",
              "    <tr>\n",
              "      <th>75%</th>\n",
              "      <td>2108.995000</td>\n",
              "      <td>21.320000</td>\n",
              "      <td>2553.687500</td>\n",
              "      <td>23002.800000</td>\n",
              "      <td>1160.025000</td>\n",
              "      <td>1448.180000</td>\n",
              "      <td>176.182500</td>\n",
              "      <td>11.295075</td>\n",
              "      <td>69.792500</td>\n",
              "      <td>3.590000</td>\n",
              "      <td>4.900000</td>\n",
              "      <td>1.995250</td>\n",
              "      <td>3.721250</td>\n",
              "    </tr>\n",
              "    <tr>\n",
              "      <th>max</th>\n",
              "      <td>3305.210000</td>\n",
              "      <td>82.690000</td>\n",
              "      <td>4793.060000</td>\n",
              "      <td>36488.630000</td>\n",
              "      <td>1570.650000</td>\n",
              "      <td>1976.350000</td>\n",
              "      <td>229.490000</td>\n",
              "      <td>16.309900</td>\n",
              "      <td>86.260000</td>\n",
              "      <td>5.810000</td>\n",
              "      <td>7.270000</td>\n",
              "      <td>5.278000</td>\n",
              "      <td>5.289000</td>\n",
              "    </tr>\n",
              "  </tbody>\n",
              "</table>\n",
              "</div>\n",
              "      <button class=\"colab-df-convert\" onclick=\"convertToInteractive('df-d746282d-e106-4d3c-8628-e5bd0048a998')\"\n",
              "              title=\"Convert this dataframe to an interactive table.\"\n",
              "              style=\"display:none;\">\n",
              "        \n",
              "  <svg xmlns=\"http://www.w3.org/2000/svg\" height=\"24px\"viewBox=\"0 0 24 24\"\n",
              "       width=\"24px\">\n",
              "    <path d=\"M0 0h24v24H0V0z\" fill=\"none\"/>\n",
              "    <path d=\"M18.56 5.44l.94 2.06.94-2.06 2.06-.94-2.06-.94-.94-2.06-.94 2.06-2.06.94zm-11 1L8.5 8.5l.94-2.06 2.06-.94-2.06-.94L8.5 2.5l-.94 2.06-2.06.94zm10 10l.94 2.06.94-2.06 2.06-.94-2.06-.94-.94-2.06-.94 2.06-2.06.94z\"/><path d=\"M17.41 7.96l-1.37-1.37c-.4-.4-.92-.59-1.43-.59-.52 0-1.04.2-1.43.59L10.3 9.45l-7.72 7.72c-.78.78-.78 2.05 0 2.83L4 21.41c.39.39.9.59 1.41.59.51 0 1.02-.2 1.41-.59l7.78-7.78 2.81-2.81c.8-.78.8-2.07 0-2.86zM5.41 20L4 18.59l7.72-7.72 1.47 1.35L5.41 20z\"/>\n",
              "  </svg>\n",
              "      </button>\n",
              "      \n",
              "  <style>\n",
              "    .colab-df-container {\n",
              "      display:flex;\n",
              "      flex-wrap:wrap;\n",
              "      gap: 12px;\n",
              "    }\n",
              "\n",
              "    .colab-df-convert {\n",
              "      background-color: #E8F0FE;\n",
              "      border: none;\n",
              "      border-radius: 50%;\n",
              "      cursor: pointer;\n",
              "      display: none;\n",
              "      fill: #1967D2;\n",
              "      height: 32px;\n",
              "      padding: 0 0 0 0;\n",
              "      width: 32px;\n",
              "    }\n",
              "\n",
              "    .colab-df-convert:hover {\n",
              "      background-color: #E2EBFA;\n",
              "      box-shadow: 0px 1px 2px rgba(60, 64, 67, 0.3), 0px 1px 3px 1px rgba(60, 64, 67, 0.15);\n",
              "      fill: #174EA6;\n",
              "    }\n",
              "\n",
              "    [theme=dark] .colab-df-convert {\n",
              "      background-color: #3B4455;\n",
              "      fill: #D2E3FC;\n",
              "    }\n",
              "\n",
              "    [theme=dark] .colab-df-convert:hover {\n",
              "      background-color: #434B5C;\n",
              "      box-shadow: 0px 1px 3px 1px rgba(0, 0, 0, 0.15);\n",
              "      filter: drop-shadow(0px 1px 2px rgba(0, 0, 0, 0.3));\n",
              "      fill: #FFFFFF;\n",
              "    }\n",
              "  </style>\n",
              "\n",
              "      <script>\n",
              "        const buttonEl =\n",
              "          document.querySelector('#df-d746282d-e106-4d3c-8628-e5bd0048a998 button.colab-df-convert');\n",
              "        buttonEl.style.display =\n",
              "          google.colab.kernel.accessAllowed ? 'block' : 'none';\n",
              "\n",
              "        async function convertToInteractive(key) {\n",
              "          const element = document.querySelector('#df-d746282d-e106-4d3c-8628-e5bd0048a998');\n",
              "          const dataTable =\n",
              "            await google.colab.kernel.invokeFunction('convertToInteractive',\n",
              "                                                     [key], {});\n",
              "          if (!dataTable) return;\n",
              "\n",
              "          const docLinkHtml = 'Like what you see? Visit the ' +\n",
              "            '<a target=\"_blank\" href=https://colab.research.google.com/notebooks/data_table.ipynb>data table notebook</a>'\n",
              "            + ' to learn more about interactive tables.';\n",
              "          element.innerHTML = '';\n",
              "          dataTable['output_type'] = 'display_data';\n",
              "          await google.colab.output.renderOutput(dataTable, element);\n",
              "          const docLink = document.createElement('div');\n",
              "          docLink.innerHTML = docLinkHtml;\n",
              "          element.appendChild(docLink);\n",
              "        }\n",
              "      </script>\n",
              "    </div>\n",
              "  </div>\n",
              "  "
            ]
          },
          "metadata": {},
          "execution_count": 7
        }
      ]
    },
    {
      "cell_type": "markdown",
      "source": [
        "## **결측치 확인**"
      ],
      "metadata": {
        "id": "KqBZIR0TQ5Ly"
      }
    },
    {
      "cell_type": "code",
      "source": [
        "data.isnull().sum()"
      ],
      "metadata": {
        "id": "oO_-ZeFUxhEf",
        "colab": {
          "base_uri": "https://localhost:8080/"
        },
        "outputId": "be4fab8f-827e-4878-a739-18be75785eb7"
      },
      "execution_count": null,
      "outputs": [
        {
          "output_type": "execute_result",
          "data": {
            "text/plain": [
              "Date      0\n",
              "kospi     0\n",
              "vix       0\n",
              "sp500     0\n",
              "dji       0\n",
              "usdkrw    0\n",
              "eurkrw    0\n",
              "cnykrw    0\n",
              "jpykrw    0\n",
              "wti       0\n",
              "kr1yt     0\n",
              "kr10yt    0\n",
              "us1mt     0\n",
              "us10yt    0\n",
              "dtype: int64"
            ]
          },
          "metadata": {},
          "execution_count": 16
        }
      ]
    },
    {
      "cell_type": "markdown",
      "source": [
        "## **데이터 상관관계 파악**"
      ],
      "metadata": {
        "id": "wN-OGIZaQ7cX"
      }
    },
    {
      "cell_type": "code",
      "source": [
        "data.corr()"
      ],
      "metadata": {
        "id": "SZTju4Ubf2K8",
        "colab": {
          "base_uri": "https://localhost:8080/",
          "height": 457
        },
        "outputId": "cf559026-c702-46ce-cc03-1b09878d8fd8"
      },
      "execution_count": null,
      "outputs": [
        {
          "output_type": "execute_result",
          "data": {
            "text/plain": [
              "           kospi       vix     sp500       dji    usdkrw    eurkrw    cnykrw  \\\n",
              "kospi   1.000000 -0.094178  0.833984  0.840257  0.147764 -0.111137  0.511509   \n",
              "vix    -0.094178  1.000000 -0.094541 -0.106029  0.488186  0.533965  0.329477   \n",
              "sp500   0.833984 -0.094541  1.000000  0.993128  0.212485 -0.340724  0.333015   \n",
              "dji     0.840257 -0.106029  0.993128  1.000000  0.220773 -0.337737  0.349132   \n",
              "usdkrw  0.147764  0.488186  0.212485  0.220773  1.000000  0.462665  0.802203   \n",
              "eurkrw -0.111137  0.533965 -0.340724 -0.337737  0.462665  1.000000  0.459415   \n",
              "cnykrw  0.511509  0.329477  0.333015  0.349132  0.802203  0.459415  1.000000   \n",
              "jpykrw  0.053400  0.467487 -0.178223 -0.159352  0.649903  0.749501  0.652246   \n",
              "wti     0.844640 -0.110084  0.834013  0.849368  0.330733 -0.235837  0.620128   \n",
              "kr1yt  -0.685958  0.018476 -0.762018 -0.771785 -0.558665  0.138418 -0.675060   \n",
              "kr10yt -0.675606  0.107619 -0.771493 -0.792128 -0.398992  0.313605 -0.560928   \n",
              "us1mt  -0.414031 -0.278884 -0.217454 -0.212071 -0.662069 -0.492924 -0.864749   \n",
              "us10yt -0.684250 -0.198399 -0.639136 -0.644077 -0.577148 -0.076021 -0.785155   \n",
              "\n",
              "          jpykrw       wti     kr1yt    kr10yt     us1mt    us10yt  \n",
              "kospi   0.053400  0.844640 -0.685958 -0.675606 -0.414031 -0.684250  \n",
              "vix     0.467487 -0.110084  0.018476  0.107619 -0.278884 -0.198399  \n",
              "sp500  -0.178223  0.834013 -0.762018 -0.771493 -0.217454 -0.639136  \n",
              "dji    -0.159352  0.849368 -0.771785 -0.792128 -0.212071 -0.644077  \n",
              "usdkrw  0.649903  0.330733 -0.558665 -0.398992 -0.662069 -0.577148  \n",
              "eurkrw  0.749501 -0.235837  0.138418  0.313605 -0.492924 -0.076021  \n",
              "cnykrw  0.652246  0.620128 -0.675060 -0.560928 -0.864749 -0.785155  \n",
              "jpykrw  1.000000  0.003475 -0.184606 -0.049623 -0.654699 -0.423758  \n",
              "wti     0.003475  1.000000 -0.881634 -0.908906 -0.518347 -0.835310  \n",
              "kr1yt  -0.184606 -0.881634  1.000000  0.931426  0.594016  0.848845  \n",
              "kr10yt -0.049623 -0.908906  0.931426  1.000000  0.455415  0.845657  \n",
              "us1mt  -0.654699 -0.518347  0.594016  0.455415  1.000000  0.745133  \n",
              "us10yt -0.423758 -0.835310  0.848845  0.845657  0.745133  1.000000  "
            ],
            "text/html": [
              "\n",
              "  <div id=\"df-36d3b35b-b07a-4aa2-90e8-c431badfecae\">\n",
              "    <div class=\"colab-df-container\">\n",
              "      <div>\n",
              "<style scoped>\n",
              "    .dataframe tbody tr th:only-of-type {\n",
              "        vertical-align: middle;\n",
              "    }\n",
              "\n",
              "    .dataframe tbody tr th {\n",
              "        vertical-align: top;\n",
              "    }\n",
              "\n",
              "    .dataframe thead th {\n",
              "        text-align: right;\n",
              "    }\n",
              "</style>\n",
              "<table border=\"1\" class=\"dataframe\">\n",
              "  <thead>\n",
              "    <tr style=\"text-align: right;\">\n",
              "      <th></th>\n",
              "      <th>kospi</th>\n",
              "      <th>vix</th>\n",
              "      <th>sp500</th>\n",
              "      <th>dji</th>\n",
              "      <th>usdkrw</th>\n",
              "      <th>eurkrw</th>\n",
              "      <th>cnykrw</th>\n",
              "      <th>jpykrw</th>\n",
              "      <th>wti</th>\n",
              "      <th>kr1yt</th>\n",
              "      <th>kr10yt</th>\n",
              "      <th>us1mt</th>\n",
              "      <th>us10yt</th>\n",
              "    </tr>\n",
              "  </thead>\n",
              "  <tbody>\n",
              "    <tr>\n",
              "      <th>kospi</th>\n",
              "      <td>1.000000</td>\n",
              "      <td>-0.094178</td>\n",
              "      <td>0.833984</td>\n",
              "      <td>0.840257</td>\n",
              "      <td>0.147764</td>\n",
              "      <td>-0.111137</td>\n",
              "      <td>0.511509</td>\n",
              "      <td>0.053400</td>\n",
              "      <td>0.844640</td>\n",
              "      <td>-0.685958</td>\n",
              "      <td>-0.675606</td>\n",
              "      <td>-0.414031</td>\n",
              "      <td>-0.684250</td>\n",
              "    </tr>\n",
              "    <tr>\n",
              "      <th>vix</th>\n",
              "      <td>-0.094178</td>\n",
              "      <td>1.000000</td>\n",
              "      <td>-0.094541</td>\n",
              "      <td>-0.106029</td>\n",
              "      <td>0.488186</td>\n",
              "      <td>0.533965</td>\n",
              "      <td>0.329477</td>\n",
              "      <td>0.467487</td>\n",
              "      <td>-0.110084</td>\n",
              "      <td>0.018476</td>\n",
              "      <td>0.107619</td>\n",
              "      <td>-0.278884</td>\n",
              "      <td>-0.198399</td>\n",
              "    </tr>\n",
              "    <tr>\n",
              "      <th>sp500</th>\n",
              "      <td>0.833984</td>\n",
              "      <td>-0.094541</td>\n",
              "      <td>1.000000</td>\n",
              "      <td>0.993128</td>\n",
              "      <td>0.212485</td>\n",
              "      <td>-0.340724</td>\n",
              "      <td>0.333015</td>\n",
              "      <td>-0.178223</td>\n",
              "      <td>0.834013</td>\n",
              "      <td>-0.762018</td>\n",
              "      <td>-0.771493</td>\n",
              "      <td>-0.217454</td>\n",
              "      <td>-0.639136</td>\n",
              "    </tr>\n",
              "    <tr>\n",
              "      <th>dji</th>\n",
              "      <td>0.840257</td>\n",
              "      <td>-0.106029</td>\n",
              "      <td>0.993128</td>\n",
              "      <td>1.000000</td>\n",
              "      <td>0.220773</td>\n",
              "      <td>-0.337737</td>\n",
              "      <td>0.349132</td>\n",
              "      <td>-0.159352</td>\n",
              "      <td>0.849368</td>\n",
              "      <td>-0.771785</td>\n",
              "      <td>-0.792128</td>\n",
              "      <td>-0.212071</td>\n",
              "      <td>-0.644077</td>\n",
              "    </tr>\n",
              "    <tr>\n",
              "      <th>usdkrw</th>\n",
              "      <td>0.147764</td>\n",
              "      <td>0.488186</td>\n",
              "      <td>0.212485</td>\n",
              "      <td>0.220773</td>\n",
              "      <td>1.000000</td>\n",
              "      <td>0.462665</td>\n",
              "      <td>0.802203</td>\n",
              "      <td>0.649903</td>\n",
              "      <td>0.330733</td>\n",
              "      <td>-0.558665</td>\n",
              "      <td>-0.398992</td>\n",
              "      <td>-0.662069</td>\n",
              "      <td>-0.577148</td>\n",
              "    </tr>\n",
              "    <tr>\n",
              "      <th>eurkrw</th>\n",
              "      <td>-0.111137</td>\n",
              "      <td>0.533965</td>\n",
              "      <td>-0.340724</td>\n",
              "      <td>-0.337737</td>\n",
              "      <td>0.462665</td>\n",
              "      <td>1.000000</td>\n",
              "      <td>0.459415</td>\n",
              "      <td>0.749501</td>\n",
              "      <td>-0.235837</td>\n",
              "      <td>0.138418</td>\n",
              "      <td>0.313605</td>\n",
              "      <td>-0.492924</td>\n",
              "      <td>-0.076021</td>\n",
              "    </tr>\n",
              "    <tr>\n",
              "      <th>cnykrw</th>\n",
              "      <td>0.511509</td>\n",
              "      <td>0.329477</td>\n",
              "      <td>0.333015</td>\n",
              "      <td>0.349132</td>\n",
              "      <td>0.802203</td>\n",
              "      <td>0.459415</td>\n",
              "      <td>1.000000</td>\n",
              "      <td>0.652246</td>\n",
              "      <td>0.620128</td>\n",
              "      <td>-0.675060</td>\n",
              "      <td>-0.560928</td>\n",
              "      <td>-0.864749</td>\n",
              "      <td>-0.785155</td>\n",
              "    </tr>\n",
              "    <tr>\n",
              "      <th>jpykrw</th>\n",
              "      <td>0.053400</td>\n",
              "      <td>0.467487</td>\n",
              "      <td>-0.178223</td>\n",
              "      <td>-0.159352</td>\n",
              "      <td>0.649903</td>\n",
              "      <td>0.749501</td>\n",
              "      <td>0.652246</td>\n",
              "      <td>1.000000</td>\n",
              "      <td>0.003475</td>\n",
              "      <td>-0.184606</td>\n",
              "      <td>-0.049623</td>\n",
              "      <td>-0.654699</td>\n",
              "      <td>-0.423758</td>\n",
              "    </tr>\n",
              "    <tr>\n",
              "      <th>wti</th>\n",
              "      <td>0.844640</td>\n",
              "      <td>-0.110084</td>\n",
              "      <td>0.834013</td>\n",
              "      <td>0.849368</td>\n",
              "      <td>0.330733</td>\n",
              "      <td>-0.235837</td>\n",
              "      <td>0.620128</td>\n",
              "      <td>0.003475</td>\n",
              "      <td>1.000000</td>\n",
              "      <td>-0.881634</td>\n",
              "      <td>-0.908906</td>\n",
              "      <td>-0.518347</td>\n",
              "      <td>-0.835310</td>\n",
              "    </tr>\n",
              "    <tr>\n",
              "      <th>kr1yt</th>\n",
              "      <td>-0.685958</td>\n",
              "      <td>0.018476</td>\n",
              "      <td>-0.762018</td>\n",
              "      <td>-0.771785</td>\n",
              "      <td>-0.558665</td>\n",
              "      <td>0.138418</td>\n",
              "      <td>-0.675060</td>\n",
              "      <td>-0.184606</td>\n",
              "      <td>-0.881634</td>\n",
              "      <td>1.000000</td>\n",
              "      <td>0.931426</td>\n",
              "      <td>0.594016</td>\n",
              "      <td>0.848845</td>\n",
              "    </tr>\n",
              "    <tr>\n",
              "      <th>kr10yt</th>\n",
              "      <td>-0.675606</td>\n",
              "      <td>0.107619</td>\n",
              "      <td>-0.771493</td>\n",
              "      <td>-0.792128</td>\n",
              "      <td>-0.398992</td>\n",
              "      <td>0.313605</td>\n",
              "      <td>-0.560928</td>\n",
              "      <td>-0.049623</td>\n",
              "      <td>-0.908906</td>\n",
              "      <td>0.931426</td>\n",
              "      <td>1.000000</td>\n",
              "      <td>0.455415</td>\n",
              "      <td>0.845657</td>\n",
              "    </tr>\n",
              "    <tr>\n",
              "      <th>us1mt</th>\n",
              "      <td>-0.414031</td>\n",
              "      <td>-0.278884</td>\n",
              "      <td>-0.217454</td>\n",
              "      <td>-0.212071</td>\n",
              "      <td>-0.662069</td>\n",
              "      <td>-0.492924</td>\n",
              "      <td>-0.864749</td>\n",
              "      <td>-0.654699</td>\n",
              "      <td>-0.518347</td>\n",
              "      <td>0.594016</td>\n",
              "      <td>0.455415</td>\n",
              "      <td>1.000000</td>\n",
              "      <td>0.745133</td>\n",
              "    </tr>\n",
              "    <tr>\n",
              "      <th>us10yt</th>\n",
              "      <td>-0.684250</td>\n",
              "      <td>-0.198399</td>\n",
              "      <td>-0.639136</td>\n",
              "      <td>-0.644077</td>\n",
              "      <td>-0.577148</td>\n",
              "      <td>-0.076021</td>\n",
              "      <td>-0.785155</td>\n",
              "      <td>-0.423758</td>\n",
              "      <td>-0.835310</td>\n",
              "      <td>0.848845</td>\n",
              "      <td>0.845657</td>\n",
              "      <td>0.745133</td>\n",
              "      <td>1.000000</td>\n",
              "    </tr>\n",
              "  </tbody>\n",
              "</table>\n",
              "</div>\n",
              "      <button class=\"colab-df-convert\" onclick=\"convertToInteractive('df-36d3b35b-b07a-4aa2-90e8-c431badfecae')\"\n",
              "              title=\"Convert this dataframe to an interactive table.\"\n",
              "              style=\"display:none;\">\n",
              "        \n",
              "  <svg xmlns=\"http://www.w3.org/2000/svg\" height=\"24px\"viewBox=\"0 0 24 24\"\n",
              "       width=\"24px\">\n",
              "    <path d=\"M0 0h24v24H0V0z\" fill=\"none\"/>\n",
              "    <path d=\"M18.56 5.44l.94 2.06.94-2.06 2.06-.94-2.06-.94-.94-2.06-.94 2.06-2.06.94zm-11 1L8.5 8.5l.94-2.06 2.06-.94-2.06-.94L8.5 2.5l-.94 2.06-2.06.94zm10 10l.94 2.06.94-2.06 2.06-.94-2.06-.94-.94-2.06-.94 2.06-2.06.94z\"/><path d=\"M17.41 7.96l-1.37-1.37c-.4-.4-.92-.59-1.43-.59-.52 0-1.04.2-1.43.59L10.3 9.45l-7.72 7.72c-.78.78-.78 2.05 0 2.83L4 21.41c.39.39.9.59 1.41.59.51 0 1.02-.2 1.41-.59l7.78-7.78 2.81-2.81c.8-.78.8-2.07 0-2.86zM5.41 20L4 18.59l7.72-7.72 1.47 1.35L5.41 20z\"/>\n",
              "  </svg>\n",
              "      </button>\n",
              "      \n",
              "  <style>\n",
              "    .colab-df-container {\n",
              "      display:flex;\n",
              "      flex-wrap:wrap;\n",
              "      gap: 12px;\n",
              "    }\n",
              "\n",
              "    .colab-df-convert {\n",
              "      background-color: #E8F0FE;\n",
              "      border: none;\n",
              "      border-radius: 50%;\n",
              "      cursor: pointer;\n",
              "      display: none;\n",
              "      fill: #1967D2;\n",
              "      height: 32px;\n",
              "      padding: 0 0 0 0;\n",
              "      width: 32px;\n",
              "    }\n",
              "\n",
              "    .colab-df-convert:hover {\n",
              "      background-color: #E2EBFA;\n",
              "      box-shadow: 0px 1px 2px rgba(60, 64, 67, 0.3), 0px 1px 3px 1px rgba(60, 64, 67, 0.15);\n",
              "      fill: #174EA6;\n",
              "    }\n",
              "\n",
              "    [theme=dark] .colab-df-convert {\n",
              "      background-color: #3B4455;\n",
              "      fill: #D2E3FC;\n",
              "    }\n",
              "\n",
              "    [theme=dark] .colab-df-convert:hover {\n",
              "      background-color: #434B5C;\n",
              "      box-shadow: 0px 1px 3px 1px rgba(0, 0, 0, 0.15);\n",
              "      filter: drop-shadow(0px 1px 2px rgba(0, 0, 0, 0.3));\n",
              "      fill: #FFFFFF;\n",
              "    }\n",
              "  </style>\n",
              "\n",
              "      <script>\n",
              "        const buttonEl =\n",
              "          document.querySelector('#df-36d3b35b-b07a-4aa2-90e8-c431badfecae button.colab-df-convert');\n",
              "        buttonEl.style.display =\n",
              "          google.colab.kernel.accessAllowed ? 'block' : 'none';\n",
              "\n",
              "        async function convertToInteractive(key) {\n",
              "          const element = document.querySelector('#df-36d3b35b-b07a-4aa2-90e8-c431badfecae');\n",
              "          const dataTable =\n",
              "            await google.colab.kernel.invokeFunction('convertToInteractive',\n",
              "                                                     [key], {});\n",
              "          if (!dataTable) return;\n",
              "\n",
              "          const docLinkHtml = 'Like what you see? Visit the ' +\n",
              "            '<a target=\"_blank\" href=https://colab.research.google.com/notebooks/data_table.ipynb>data table notebook</a>'\n",
              "            + ' to learn more about interactive tables.';\n",
              "          element.innerHTML = '';\n",
              "          dataTable['output_type'] = 'display_data';\n",
              "          await google.colab.output.renderOutput(dataTable, element);\n",
              "          const docLink = document.createElement('div');\n",
              "          docLink.innerHTML = docLinkHtml;\n",
              "          element.appendChild(docLink);\n",
              "        }\n",
              "      </script>\n",
              "    </div>\n",
              "  </div>\n",
              "  "
            ]
          },
          "metadata": {},
          "execution_count": 8
        }
      ]
    },
    {
      "cell_type": "markdown",
      "source": [
        "## **데이터 MinMaxScaler로 단위 영향 제거**"
      ],
      "metadata": {
        "id": "uaM4MKBlQ-39"
      }
    },
    {
      "cell_type": "code",
      "source": [
        "from sklearn.preprocessing import MinMaxScaler\n",
        "\n",
        "scaler_x = MinMaxScaler() #  모든 값을 0~1 사이의 값으로 변경해줌. 단위 문제 해결\n",
        "scaler_y = MinMaxScaler()\n",
        "# 스케일을 적용할 column을 정의합니다.\n",
        "scale_cols_x = ['vix', 'sp500', 'dji', 'usdkrw', 'eurkrw', 'cnykrw', 'jpykrw', 'wti', 'kr1yt', 'kr10yt', 'us1mt', 'us10yt']\n",
        "scale_cols_y = ['kospi']\n",
        "# 스케일 후 columns\n",
        "scaled_x = scaler_x.fit_transform(data[scale_cols_x])\n",
        "scaled_y = scaler_y.fit_transform(data[scale_cols_y])\n",
        "\n",
        "df_x = pd.DataFrame(scaled_x, columns = scale_cols_x)\n",
        "df_y = pd.DataFrame(scaled_y, columns = scale_cols_y)"
      ],
      "metadata": {
        "id": "os886C8lb9_y"
      },
      "execution_count": null,
      "outputs": []
    },
    {
      "cell_type": "code",
      "source": [
        "df_x.index.name = 'id'\n",
        "df_y.index.name = 'id'"
      ],
      "metadata": {
        "id": "Jlsj18dURaci"
      },
      "execution_count": null,
      "outputs": []
    },
    {
      "cell_type": "code",
      "source": [
        "df = pd.merge(df_y, df_x, how = 'left', on = 'id' )"
      ],
      "metadata": {
        "id": "rCJsf1UuQlPu"
      },
      "execution_count": null,
      "outputs": []
    },
    {
      "cell_type": "markdown",
      "source": [
        "## **데이터 학습 가능 형태로 변환**"
      ],
      "metadata": {
        "id": "OsXjIejiRFfU"
      }
    },
    {
      "cell_type": "code",
      "source": [
        "from sklearn.model_selection import train_test_split"
      ],
      "metadata": {
        "id": "f8h0THa6cIXF"
      },
      "execution_count": null,
      "outputs": []
    },
    {
      "cell_type": "code",
      "source": [
        "# 학습데이터 80%, 테스트 데이터 20%로 나눠서 진행\n",
        "\n",
        "x_train, x_test, y_train, y_test = train_test_split(df.drop('kospi', 1), df['kospi'], test_size=0.2, random_state=0, shuffle=False)"
      ],
      "metadata": {
        "id": "ZvxwQrOOcJTh"
      },
      "execution_count": null,
      "outputs": []
    },
    {
      "cell_type": "code",
      "source": [
        "x_train1 = pd.concat([y_train, x_train], axis =1)\n",
        "x_test1 = pd.concat([y_test, x_test],axis = 1)"
      ],
      "metadata": {
        "id": "x4zHrlBVOT3m"
      },
      "execution_count": null,
      "outputs": []
    },
    {
      "cell_type": "code",
      "source": [
        "x_train1.head(21)"
      ],
      "metadata": {
        "colab": {
          "base_uri": "https://localhost:8080/",
          "height": 739
        },
        "id": "krTQIK8djrSo",
        "outputId": "a53efc3d-44a4-4183-e771-30636cc9236a"
      },
      "execution_count": null,
      "outputs": [
        {
          "output_type": "execute_result",
          "data": {
            "text/plain": [
              "       kospi       vix     sp500       dji    usdkrw    eurkrw    cnykrw  \\\n",
              "id                                                                         \n",
              "0   0.072678  0.173215  0.108417  0.104921  0.642233  0.039139  0.395617   \n",
              "1   0.086291  0.163154  0.109609  0.109430  0.620288  0.000000  0.379951   \n",
              "2   0.071697  0.221754  0.099124  0.103398  0.613570  0.003259  0.375198   \n",
              "3   0.072291  0.230455  0.097543  0.102326  0.613421  0.003080  0.375022   \n",
              "4   0.087026  0.207886  0.097494  0.105395  0.619840  0.021526  0.379511   \n",
              "5   0.088962  0.199320  0.096934  0.108390  0.616556  0.008682  0.377310   \n",
              "6   0.135306  0.158124  0.099878  0.114938  0.598940  0.032242  0.364637   \n",
              "7   0.109607  0.152957  0.098832  0.118665  0.566694  0.027128  0.341577   \n",
              "8   0.085673  0.245955  0.074577  0.088959  0.460700  0.045740  0.266150   \n",
              "9   0.061029  0.233175  0.074942  0.089498  0.436068  0.051508  0.248636   \n",
              "10  0.090883  0.323589  0.058107  0.069916  0.406061  0.031944  0.227337   \n",
              "11  0.077020  0.394697  0.040202  0.047662  0.387848  0.045716  0.214311   \n",
              "12  0.070536  0.278042  0.062000  0.076190  0.431738  0.034370  0.245643   \n",
              "13  0.064847  0.404079  0.047816  0.056508  0.426066  0.047726  0.241507   \n",
              "14  0.042042  0.383277  0.038231  0.041727  0.483989  0.072118  0.282785   \n",
              "15  0.044126  0.378382  0.035239  0.037031  0.480854  0.075496  0.280496   \n",
              "16  0.039932  0.339633  0.040226  0.044970  0.480257  0.079040  0.280056   \n",
              "17  0.038474  0.376479  0.035361  0.038843  0.484586  0.087532  0.283137   \n",
              "18  0.034186  0.365194  0.043170  0.048223  0.509218  0.098687  0.300827   \n",
              "19  0.037229  0.339361  0.047841  0.056218  0.515339  0.088055  0.305140   \n",
              "20  0.044553  0.300340  0.056647  0.069707  0.482496  0.109117  0.281729   \n",
              "\n",
              "      jpykrw       wti     kr1yt    kr10yt     us1mt    us10yt  \n",
              "id                                                              \n",
              "0   0.276144  0.102271  0.870912  0.984869  0.325437  0.945363  \n",
              "1   0.271073  0.103816  0.867470  0.986245  0.329197  0.955202  \n",
              "2   0.264206  0.099645  0.867470  0.964237  0.334085  0.917731  \n",
              "3   0.265697  0.095010  0.864028  0.965612  0.333145  0.924220  \n",
              "4   0.270158  0.096864  0.858864  0.962861  0.332957  0.912497  \n",
              "5   0.263664  0.099954  0.853701  0.955983  0.337845  0.909985  \n",
              "6   0.292725  0.094701  0.901893  1.000000  0.320549  0.963366  \n",
              "7   0.279906  0.095319  0.912220  0.980743  0.339726  0.985346  \n",
              "8   0.285688  0.057315  0.925990  0.933975  0.322429  0.890098  \n",
              "9   0.283497  0.065503  0.927711  0.880330  0.327317  0.902449  \n",
              "10  0.291234  0.049591  0.913941  0.911967  0.330137  0.850324  \n",
              "11  0.288975  0.010042  0.895009  0.907840  0.330137  0.838602  \n",
              "12  0.288264  0.086822  0.858864  0.847318  0.327317  0.761775  \n",
              "13  0.289890  0.101035  0.851979  0.839065  0.320549  0.715721  \n",
              "14  0.284051  0.082033  0.865749  0.840440  0.323557  0.678459  \n",
              "15  0.285429  0.090066  0.869191  0.844567  0.317729  0.659619  \n",
              "16  0.284367  0.090684  0.864028  0.836314  0.314909  0.670923  \n",
              "17  0.284333  0.085741  0.867470  0.839065  0.308141  0.661294  \n",
              "18  0.284548  0.090684  0.879518  0.844567  0.319609  0.740004  \n",
              "19  0.282842  0.097636  0.869191  0.844567  0.320549  0.772451  \n",
              "20  0.292318  0.088367  0.870912  0.822558  0.279376  0.745447  "
            ],
            "text/html": [
              "\n",
              "  <div id=\"df-4ee4f62b-f429-4e0c-907c-ed7b8f36f2a3\">\n",
              "    <div class=\"colab-df-container\">\n",
              "      <div>\n",
              "<style scoped>\n",
              "    .dataframe tbody tr th:only-of-type {\n",
              "        vertical-align: middle;\n",
              "    }\n",
              "\n",
              "    .dataframe tbody tr th {\n",
              "        vertical-align: top;\n",
              "    }\n",
              "\n",
              "    .dataframe thead th {\n",
              "        text-align: right;\n",
              "    }\n",
              "</style>\n",
              "<table border=\"1\" class=\"dataframe\">\n",
              "  <thead>\n",
              "    <tr style=\"text-align: right;\">\n",
              "      <th></th>\n",
              "      <th>kospi</th>\n",
              "      <th>vix</th>\n",
              "      <th>sp500</th>\n",
              "      <th>dji</th>\n",
              "      <th>usdkrw</th>\n",
              "      <th>eurkrw</th>\n",
              "      <th>cnykrw</th>\n",
              "      <th>jpykrw</th>\n",
              "      <th>wti</th>\n",
              "      <th>kr1yt</th>\n",
              "      <th>kr10yt</th>\n",
              "      <th>us1mt</th>\n",
              "      <th>us10yt</th>\n",
              "    </tr>\n",
              "    <tr>\n",
              "      <th>id</th>\n",
              "      <th></th>\n",
              "      <th></th>\n",
              "      <th></th>\n",
              "      <th></th>\n",
              "      <th></th>\n",
              "      <th></th>\n",
              "      <th></th>\n",
              "      <th></th>\n",
              "      <th></th>\n",
              "      <th></th>\n",
              "      <th></th>\n",
              "      <th></th>\n",
              "      <th></th>\n",
              "    </tr>\n",
              "  </thead>\n",
              "  <tbody>\n",
              "    <tr>\n",
              "      <th>0</th>\n",
              "      <td>0.072678</td>\n",
              "      <td>0.173215</td>\n",
              "      <td>0.108417</td>\n",
              "      <td>0.104921</td>\n",
              "      <td>0.642233</td>\n",
              "      <td>0.039139</td>\n",
              "      <td>0.395617</td>\n",
              "      <td>0.276144</td>\n",
              "      <td>0.102271</td>\n",
              "      <td>0.870912</td>\n",
              "      <td>0.984869</td>\n",
              "      <td>0.325437</td>\n",
              "      <td>0.945363</td>\n",
              "    </tr>\n",
              "    <tr>\n",
              "      <th>1</th>\n",
              "      <td>0.086291</td>\n",
              "      <td>0.163154</td>\n",
              "      <td>0.109609</td>\n",
              "      <td>0.109430</td>\n",
              "      <td>0.620288</td>\n",
              "      <td>0.000000</td>\n",
              "      <td>0.379951</td>\n",
              "      <td>0.271073</td>\n",
              "      <td>0.103816</td>\n",
              "      <td>0.867470</td>\n",
              "      <td>0.986245</td>\n",
              "      <td>0.329197</td>\n",
              "      <td>0.955202</td>\n",
              "    </tr>\n",
              "    <tr>\n",
              "      <th>2</th>\n",
              "      <td>0.071697</td>\n",
              "      <td>0.221754</td>\n",
              "      <td>0.099124</td>\n",
              "      <td>0.103398</td>\n",
              "      <td>0.613570</td>\n",
              "      <td>0.003259</td>\n",
              "      <td>0.375198</td>\n",
              "      <td>0.264206</td>\n",
              "      <td>0.099645</td>\n",
              "      <td>0.867470</td>\n",
              "      <td>0.964237</td>\n",
              "      <td>0.334085</td>\n",
              "      <td>0.917731</td>\n",
              "    </tr>\n",
              "    <tr>\n",
              "      <th>3</th>\n",
              "      <td>0.072291</td>\n",
              "      <td>0.230455</td>\n",
              "      <td>0.097543</td>\n",
              "      <td>0.102326</td>\n",
              "      <td>0.613421</td>\n",
              "      <td>0.003080</td>\n",
              "      <td>0.375022</td>\n",
              "      <td>0.265697</td>\n",
              "      <td>0.095010</td>\n",
              "      <td>0.864028</td>\n",
              "      <td>0.965612</td>\n",
              "      <td>0.333145</td>\n",
              "      <td>0.924220</td>\n",
              "    </tr>\n",
              "    <tr>\n",
              "      <th>4</th>\n",
              "      <td>0.087026</td>\n",
              "      <td>0.207886</td>\n",
              "      <td>0.097494</td>\n",
              "      <td>0.105395</td>\n",
              "      <td>0.619840</td>\n",
              "      <td>0.021526</td>\n",
              "      <td>0.379511</td>\n",
              "      <td>0.270158</td>\n",
              "      <td>0.096864</td>\n",
              "      <td>0.858864</td>\n",
              "      <td>0.962861</td>\n",
              "      <td>0.332957</td>\n",
              "      <td>0.912497</td>\n",
              "    </tr>\n",
              "    <tr>\n",
              "      <th>5</th>\n",
              "      <td>0.088962</td>\n",
              "      <td>0.199320</td>\n",
              "      <td>0.096934</td>\n",
              "      <td>0.108390</td>\n",
              "      <td>0.616556</td>\n",
              "      <td>0.008682</td>\n",
              "      <td>0.377310</td>\n",
              "      <td>0.263664</td>\n",
              "      <td>0.099954</td>\n",
              "      <td>0.853701</td>\n",
              "      <td>0.955983</td>\n",
              "      <td>0.337845</td>\n",
              "      <td>0.909985</td>\n",
              "    </tr>\n",
              "    <tr>\n",
              "      <th>6</th>\n",
              "      <td>0.135306</td>\n",
              "      <td>0.158124</td>\n",
              "      <td>0.099878</td>\n",
              "      <td>0.114938</td>\n",
              "      <td>0.598940</td>\n",
              "      <td>0.032242</td>\n",
              "      <td>0.364637</td>\n",
              "      <td>0.292725</td>\n",
              "      <td>0.094701</td>\n",
              "      <td>0.901893</td>\n",
              "      <td>1.000000</td>\n",
              "      <td>0.320549</td>\n",
              "      <td>0.963366</td>\n",
              "    </tr>\n",
              "    <tr>\n",
              "      <th>7</th>\n",
              "      <td>0.109607</td>\n",
              "      <td>0.152957</td>\n",
              "      <td>0.098832</td>\n",
              "      <td>0.118665</td>\n",
              "      <td>0.566694</td>\n",
              "      <td>0.027128</td>\n",
              "      <td>0.341577</td>\n",
              "      <td>0.279906</td>\n",
              "      <td>0.095319</td>\n",
              "      <td>0.912220</td>\n",
              "      <td>0.980743</td>\n",
              "      <td>0.339726</td>\n",
              "      <td>0.985346</td>\n",
              "    </tr>\n",
              "    <tr>\n",
              "      <th>8</th>\n",
              "      <td>0.085673</td>\n",
              "      <td>0.245955</td>\n",
              "      <td>0.074577</td>\n",
              "      <td>0.088959</td>\n",
              "      <td>0.460700</td>\n",
              "      <td>0.045740</td>\n",
              "      <td>0.266150</td>\n",
              "      <td>0.285688</td>\n",
              "      <td>0.057315</td>\n",
              "      <td>0.925990</td>\n",
              "      <td>0.933975</td>\n",
              "      <td>0.322429</td>\n",
              "      <td>0.890098</td>\n",
              "    </tr>\n",
              "    <tr>\n",
              "      <th>9</th>\n",
              "      <td>0.061029</td>\n",
              "      <td>0.233175</td>\n",
              "      <td>0.074942</td>\n",
              "      <td>0.089498</td>\n",
              "      <td>0.436068</td>\n",
              "      <td>0.051508</td>\n",
              "      <td>0.248636</td>\n",
              "      <td>0.283497</td>\n",
              "      <td>0.065503</td>\n",
              "      <td>0.927711</td>\n",
              "      <td>0.880330</td>\n",
              "      <td>0.327317</td>\n",
              "      <td>0.902449</td>\n",
              "    </tr>\n",
              "    <tr>\n",
              "      <th>10</th>\n",
              "      <td>0.090883</td>\n",
              "      <td>0.323589</td>\n",
              "      <td>0.058107</td>\n",
              "      <td>0.069916</td>\n",
              "      <td>0.406061</td>\n",
              "      <td>0.031944</td>\n",
              "      <td>0.227337</td>\n",
              "      <td>0.291234</td>\n",
              "      <td>0.049591</td>\n",
              "      <td>0.913941</td>\n",
              "      <td>0.911967</td>\n",
              "      <td>0.330137</td>\n",
              "      <td>0.850324</td>\n",
              "    </tr>\n",
              "    <tr>\n",
              "      <th>11</th>\n",
              "      <td>0.077020</td>\n",
              "      <td>0.394697</td>\n",
              "      <td>0.040202</td>\n",
              "      <td>0.047662</td>\n",
              "      <td>0.387848</td>\n",
              "      <td>0.045716</td>\n",
              "      <td>0.214311</td>\n",
              "      <td>0.288975</td>\n",
              "      <td>0.010042</td>\n",
              "      <td>0.895009</td>\n",
              "      <td>0.907840</td>\n",
              "      <td>0.330137</td>\n",
              "      <td>0.838602</td>\n",
              "    </tr>\n",
              "    <tr>\n",
              "      <th>12</th>\n",
              "      <td>0.070536</td>\n",
              "      <td>0.278042</td>\n",
              "      <td>0.062000</td>\n",
              "      <td>0.076190</td>\n",
              "      <td>0.431738</td>\n",
              "      <td>0.034370</td>\n",
              "      <td>0.245643</td>\n",
              "      <td>0.288264</td>\n",
              "      <td>0.086822</td>\n",
              "      <td>0.858864</td>\n",
              "      <td>0.847318</td>\n",
              "      <td>0.327317</td>\n",
              "      <td>0.761775</td>\n",
              "    </tr>\n",
              "    <tr>\n",
              "      <th>13</th>\n",
              "      <td>0.064847</td>\n",
              "      <td>0.404079</td>\n",
              "      <td>0.047816</td>\n",
              "      <td>0.056508</td>\n",
              "      <td>0.426066</td>\n",
              "      <td>0.047726</td>\n",
              "      <td>0.241507</td>\n",
              "      <td>0.289890</td>\n",
              "      <td>0.101035</td>\n",
              "      <td>0.851979</td>\n",
              "      <td>0.839065</td>\n",
              "      <td>0.320549</td>\n",
              "      <td>0.715721</td>\n",
              "    </tr>\n",
              "    <tr>\n",
              "      <th>14</th>\n",
              "      <td>0.042042</td>\n",
              "      <td>0.383277</td>\n",
              "      <td>0.038231</td>\n",
              "      <td>0.041727</td>\n",
              "      <td>0.483989</td>\n",
              "      <td>0.072118</td>\n",
              "      <td>0.282785</td>\n",
              "      <td>0.284051</td>\n",
              "      <td>0.082033</td>\n",
              "      <td>0.865749</td>\n",
              "      <td>0.840440</td>\n",
              "      <td>0.323557</td>\n",
              "      <td>0.678459</td>\n",
              "    </tr>\n",
              "    <tr>\n",
              "      <th>15</th>\n",
              "      <td>0.044126</td>\n",
              "      <td>0.378382</td>\n",
              "      <td>0.035239</td>\n",
              "      <td>0.037031</td>\n",
              "      <td>0.480854</td>\n",
              "      <td>0.075496</td>\n",
              "      <td>0.280496</td>\n",
              "      <td>0.285429</td>\n",
              "      <td>0.090066</td>\n",
              "      <td>0.869191</td>\n",
              "      <td>0.844567</td>\n",
              "      <td>0.317729</td>\n",
              "      <td>0.659619</td>\n",
              "    </tr>\n",
              "    <tr>\n",
              "      <th>16</th>\n",
              "      <td>0.039932</td>\n",
              "      <td>0.339633</td>\n",
              "      <td>0.040226</td>\n",
              "      <td>0.044970</td>\n",
              "      <td>0.480257</td>\n",
              "      <td>0.079040</td>\n",
              "      <td>0.280056</td>\n",
              "      <td>0.284367</td>\n",
              "      <td>0.090684</td>\n",
              "      <td>0.864028</td>\n",
              "      <td>0.836314</td>\n",
              "      <td>0.314909</td>\n",
              "      <td>0.670923</td>\n",
              "    </tr>\n",
              "    <tr>\n",
              "      <th>17</th>\n",
              "      <td>0.038474</td>\n",
              "      <td>0.376479</td>\n",
              "      <td>0.035361</td>\n",
              "      <td>0.038843</td>\n",
              "      <td>0.484586</td>\n",
              "      <td>0.087532</td>\n",
              "      <td>0.283137</td>\n",
              "      <td>0.284333</td>\n",
              "      <td>0.085741</td>\n",
              "      <td>0.867470</td>\n",
              "      <td>0.839065</td>\n",
              "      <td>0.308141</td>\n",
              "      <td>0.661294</td>\n",
              "    </tr>\n",
              "    <tr>\n",
              "      <th>18</th>\n",
              "      <td>0.034186</td>\n",
              "      <td>0.365194</td>\n",
              "      <td>0.043170</td>\n",
              "      <td>0.048223</td>\n",
              "      <td>0.509218</td>\n",
              "      <td>0.098687</td>\n",
              "      <td>0.300827</td>\n",
              "      <td>0.284548</td>\n",
              "      <td>0.090684</td>\n",
              "      <td>0.879518</td>\n",
              "      <td>0.844567</td>\n",
              "      <td>0.319609</td>\n",
              "      <td>0.740004</td>\n",
              "    </tr>\n",
              "    <tr>\n",
              "      <th>19</th>\n",
              "      <td>0.037229</td>\n",
              "      <td>0.339361</td>\n",
              "      <td>0.047841</td>\n",
              "      <td>0.056218</td>\n",
              "      <td>0.515339</td>\n",
              "      <td>0.088055</td>\n",
              "      <td>0.305140</td>\n",
              "      <td>0.282842</td>\n",
              "      <td>0.097636</td>\n",
              "      <td>0.869191</td>\n",
              "      <td>0.844567</td>\n",
              "      <td>0.320549</td>\n",
              "      <td>0.772451</td>\n",
              "    </tr>\n",
              "    <tr>\n",
              "      <th>20</th>\n",
              "      <td>0.044553</td>\n",
              "      <td>0.300340</td>\n",
              "      <td>0.056647</td>\n",
              "      <td>0.069707</td>\n",
              "      <td>0.482496</td>\n",
              "      <td>0.109117</td>\n",
              "      <td>0.281729</td>\n",
              "      <td>0.292318</td>\n",
              "      <td>0.088367</td>\n",
              "      <td>0.870912</td>\n",
              "      <td>0.822558</td>\n",
              "      <td>0.279376</td>\n",
              "      <td>0.745447</td>\n",
              "    </tr>\n",
              "  </tbody>\n",
              "</table>\n",
              "</div>\n",
              "      <button class=\"colab-df-convert\" onclick=\"convertToInteractive('df-4ee4f62b-f429-4e0c-907c-ed7b8f36f2a3')\"\n",
              "              title=\"Convert this dataframe to an interactive table.\"\n",
              "              style=\"display:none;\">\n",
              "        \n",
              "  <svg xmlns=\"http://www.w3.org/2000/svg\" height=\"24px\"viewBox=\"0 0 24 24\"\n",
              "       width=\"24px\">\n",
              "    <path d=\"M0 0h24v24H0V0z\" fill=\"none\"/>\n",
              "    <path d=\"M18.56 5.44l.94 2.06.94-2.06 2.06-.94-2.06-.94-.94-2.06-.94 2.06-2.06.94zm-11 1L8.5 8.5l.94-2.06 2.06-.94-2.06-.94L8.5 2.5l-.94 2.06-2.06.94zm10 10l.94 2.06.94-2.06 2.06-.94-2.06-.94-.94-2.06-.94 2.06-2.06.94z\"/><path d=\"M17.41 7.96l-1.37-1.37c-.4-.4-.92-.59-1.43-.59-.52 0-1.04.2-1.43.59L10.3 9.45l-7.72 7.72c-.78.78-.78 2.05 0 2.83L4 21.41c.39.39.9.59 1.41.59.51 0 1.02-.2 1.41-.59l7.78-7.78 2.81-2.81c.8-.78.8-2.07 0-2.86zM5.41 20L4 18.59l7.72-7.72 1.47 1.35L5.41 20z\"/>\n",
              "  </svg>\n",
              "      </button>\n",
              "      \n",
              "  <style>\n",
              "    .colab-df-container {\n",
              "      display:flex;\n",
              "      flex-wrap:wrap;\n",
              "      gap: 12px;\n",
              "    }\n",
              "\n",
              "    .colab-df-convert {\n",
              "      background-color: #E8F0FE;\n",
              "      border: none;\n",
              "      border-radius: 50%;\n",
              "      cursor: pointer;\n",
              "      display: none;\n",
              "      fill: #1967D2;\n",
              "      height: 32px;\n",
              "      padding: 0 0 0 0;\n",
              "      width: 32px;\n",
              "    }\n",
              "\n",
              "    .colab-df-convert:hover {\n",
              "      background-color: #E2EBFA;\n",
              "      box-shadow: 0px 1px 2px rgba(60, 64, 67, 0.3), 0px 1px 3px 1px rgba(60, 64, 67, 0.15);\n",
              "      fill: #174EA6;\n",
              "    }\n",
              "\n",
              "    [theme=dark] .colab-df-convert {\n",
              "      background-color: #3B4455;\n",
              "      fill: #D2E3FC;\n",
              "    }\n",
              "\n",
              "    [theme=dark] .colab-df-convert:hover {\n",
              "      background-color: #434B5C;\n",
              "      box-shadow: 0px 1px 3px 1px rgba(0, 0, 0, 0.15);\n",
              "      filter: drop-shadow(0px 1px 2px rgba(0, 0, 0, 0.3));\n",
              "      fill: #FFFFFF;\n",
              "    }\n",
              "  </style>\n",
              "\n",
              "      <script>\n",
              "        const buttonEl =\n",
              "          document.querySelector('#df-4ee4f62b-f429-4e0c-907c-ed7b8f36f2a3 button.colab-df-convert');\n",
              "        buttonEl.style.display =\n",
              "          google.colab.kernel.accessAllowed ? 'block' : 'none';\n",
              "\n",
              "        async function convertToInteractive(key) {\n",
              "          const element = document.querySelector('#df-4ee4f62b-f429-4e0c-907c-ed7b8f36f2a3');\n",
              "          const dataTable =\n",
              "            await google.colab.kernel.invokeFunction('convertToInteractive',\n",
              "                                                     [key], {});\n",
              "          if (!dataTable) return;\n",
              "\n",
              "          const docLinkHtml = 'Like what you see? Visit the ' +\n",
              "            '<a target=\"_blank\" href=https://colab.research.google.com/notebooks/data_table.ipynb>data table notebook</a>'\n",
              "            + ' to learn more about interactive tables.';\n",
              "          element.innerHTML = '';\n",
              "          dataTable['output_type'] = 'display_data';\n",
              "          await google.colab.output.renderOutput(dataTable, element);\n",
              "          const docLink = document.createElement('div');\n",
              "          docLink.innerHTML = docLinkHtml;\n",
              "          element.appendChild(docLink);\n",
              "        }\n",
              "      </script>\n",
              "    </div>\n",
              "  </div>\n",
              "  "
            ]
          },
          "metadata": {},
          "execution_count": 16
        }
      ]
    },
    {
      "cell_type": "code",
      "source": [
        "x_train1.shape, y_train.shape # 약 2001년 ~ 2018년 데이터로 학습\n",
        "# print(x_train)"
      ],
      "metadata": {
        "colab": {
          "base_uri": "https://localhost:8080/"
        },
        "id": "EobbqjKpcKQh",
        "outputId": "455f5b78-4663-49ae-a4a7-ff838d6140a7"
      },
      "execution_count": null,
      "outputs": [
        {
          "output_type": "execute_result",
          "data": {
            "text/plain": [
              "((3142, 13), (3142,))"
            ]
          },
          "metadata": {},
          "execution_count": 322
        }
      ]
    },
    {
      "cell_type": "code",
      "source": [
        "x_test1.shape, y_test.shape"
      ],
      "metadata": {
        "colab": {
          "base_uri": "https://localhost:8080/"
        },
        "id": "azP03tjwcLRq",
        "outputId": "2b1002f0-89e2-4267-bb59-93e7f819e7f3"
      },
      "execution_count": null,
      "outputs": [
        {
          "output_type": "execute_result",
          "data": {
            "text/plain": [
              "((786, 13), (786,))"
            ]
          },
          "metadata": {},
          "execution_count": 323
        }
      ]
    },
    {
      "cell_type": "code",
      "source": [
        "import tensorflow as tf"
      ],
      "metadata": {
        "id": "0DXXxzlCc5mh"
      },
      "execution_count": null,
      "outputs": []
    },
    {
      "cell_type": "code",
      "source": [
        "WINDOW_SIZE= 20 # 그룹화 할 윈도우 크기 (과거 20일 데이터로 그 다음날 종가 학습)\n",
        "BATCH_SIZE= 32 # 한번의 iteration에서 모델을 학습 시킬 때 batch_size만큼 데이터를 읽어들여 학습시킴.\n",
        "#적정 batch size는 데이터 마다 다르기 때문에 정할 순 없지만, 가용 데이터가 적을 경우 상대적으로 작은 배치 사이즈를 이용한다. 32, 64.."
      ],
      "metadata": {
        "id": "ww5fx9Y_dAhy"
      },
      "execution_count": null,
      "outputs": []
    },
    {
      "cell_type": "markdown",
      "source": [
        "## **Dataset형태로 만들기**"
      ],
      "metadata": {
        "id": "Llyusl_wRSV2"
      }
    },
    {
      "cell_type": "code",
      "source": [
        "ds_x = tf.data.Dataset.from_tensor_slices(x_train1)\n",
        "ds_x = ds_x.window(WINDOW_SIZE, stride=1, shift=1, drop_remainder=True)\n",
        "ds_x = ds_x.flat_map(lambda x: x.batch(WINDOW_SIZE))\n",
        "\n",
        "for item in ds_x.take(1):\n",
        "  print(item)"
      ],
      "metadata": {
        "id": "De6X-VT6iLzd",
        "colab": {
          "base_uri": "https://localhost:8080/"
        },
        "outputId": "498b720a-0137-4f4e-c35c-590c965f0fd9"
      },
      "execution_count": null,
      "outputs": [
        {
          "output_type": "stream",
          "name": "stdout",
          "text": [
            "tf.Tensor(\n",
            "[[0.0726778  0.1732155  0.1084172  0.10492072 0.64223334 0.03913943\n",
            "  0.39561697 0.27614444 0.10227097 0.87091222 0.98486933 0.32543711\n",
            "  0.9453632 ]\n",
            " [0.08629131 0.16315432 0.10960927 0.10942962 0.62028812 0.\n",
            "  0.37995071 0.27107311 0.10381585 0.86746988 0.98624484 0.32919722\n",
            "  0.95520201]\n",
            " [0.07169713 0.22175391 0.09912395 0.10339768 0.6135702  0.00325865\n",
            "  0.37519803 0.26420593 0.09964468 0.86746988 0.96423659 0.33408535\n",
            "  0.91773079]\n",
            " [0.0722906  0.23045547 0.09754264 0.1023259  0.61342092 0.00308025\n",
            "  0.375022   0.26569683 0.09501004 0.86402754 0.9656121  0.33314533\n",
            "  0.92422022]\n",
            " [0.08702591 0.20788579 0.09749398 0.10539506 0.61984026 0.02152609\n",
            "  0.37951065 0.27015824 0.0968639  0.85886403 0.96286107 0.33295732\n",
            "  0.91249738]\n",
            " [0.08896191 0.19932019 0.09693444 0.10839029 0.61655595 0.00868179\n",
            "  0.37731033 0.26366378 0.09995365 0.85370052 0.95598349 0.33784546\n",
            "  0.90998535]\n",
            " [0.13530649 0.15812373 0.09987812 0.11493839 0.59894006 0.03224157\n",
            "  0.36463651 0.29272508 0.09470107 0.90189329 1.         0.32054898\n",
            "  0.96336613]\n",
            " [0.10960654 0.15295717 0.09883202 0.11866486 0.56669404 0.02712763\n",
            "  0.34157719 0.27990558 0.09531902 0.91222031 0.98074278 0.33972551\n",
            "  0.98534645]\n",
            " [0.08567252 0.24595513 0.07457712 0.08895876 0.46070016 0.04573997\n",
            "  0.26615033 0.28568847 0.057315   0.92598967 0.93397524 0.32242903\n",
            "  0.89009839]\n",
            " [0.06102923 0.23317471 0.07494204 0.08949833 0.43606778 0.05150802\n",
            "  0.2486358  0.28349729 0.06550286 0.92771084 0.88033012 0.32731716\n",
            "  0.90244924]\n",
            " [0.09088343 0.32358939 0.05810714 0.06991626 0.40606106 0.03194425\n",
            "  0.22733674 0.29123417 0.04959061 0.91394148 0.91196699 0.33013724\n",
            "  0.85032447]\n",
            " [0.07702022 0.39469748 0.04020182 0.0476621  0.38784803 0.04571619\n",
            "  0.21431086 0.28897523 0.01004171 0.89500861 0.90784044 0.33013724\n",
            "  0.83860163]\n",
            " [0.07053553 0.27804215 0.06199961 0.07618972 0.43173845 0.03437039\n",
            "  0.24564337 0.28826366 0.08682218 0.85886403 0.84731774 0.32731716\n",
            "  0.76177517]\n",
            " [0.06484695 0.40407886 0.04781645 0.05650797 0.42606554 0.04772608\n",
            "  0.24150678 0.2898901  0.10103507 0.85197935 0.83906465 0.32054898\n",
            "  0.71572116]\n",
            " [0.04204196 0.38327668 0.03823127 0.0417265  0.48398895 0.07211836\n",
            "  0.28278472 0.28405074 0.08203306 0.86574871 0.84044017 0.32355706\n",
            "  0.67845928]\n",
            " [0.04412632 0.37838205 0.03523894 0.03703094 0.48085392 0.07549593\n",
            "  0.28049639 0.28542869 0.09006643 0.86919105 0.84456671 0.3177289\n",
            "  0.65961901]\n",
            " [0.03993226 0.3396329  0.04022615 0.04497028 0.48025677 0.07904001\n",
            "  0.28005633 0.28436699 0.09068438 0.86402754 0.83631362 0.31490882\n",
            "  0.67092317]\n",
            " [0.03847393 0.37647859 0.03536058 0.03884266 0.4845861  0.08753152\n",
            "  0.28313677 0.2843331  0.08574077 0.86746988 0.83906465 0.30814063\n",
            "  0.6612937 ]\n",
            " [0.03418578 0.36519375 0.04316983 0.04822308 0.50921848 0.09868703\n",
            "  0.30082732 0.2845477  0.09068438 0.87951807 0.84456671 0.31960895\n",
            "  0.74000419]\n",
            " [0.0372291  0.33936098 0.04784078 0.05621828 0.51533926 0.0880548\n",
            "  0.30513994 0.2828422  0.09763634 0.86919105 0.84456671 0.32054898\n",
            "  0.77245133]], shape=(20, 13), dtype=float64)\n"
          ]
        }
      ]
    },
    {
      "cell_type": "code",
      "source": [
        "ds_y = tf.data.Dataset.from_tensor_slices(y_train[WINDOW_SIZE:])\n",
        "for item in ds_y.take(1):\n",
        "  print(item)"
      ],
      "metadata": {
        "colab": {
          "base_uri": "https://localhost:8080/"
        },
        "id": "sLZTG1XviyJw",
        "outputId": "72f428b5-b049-4a79-8a6a-1cc5304f12f1"
      },
      "execution_count": null,
      "outputs": [
        {
          "output_type": "stream",
          "name": "stdout",
          "text": [
            "tf.Tensor(0.04455332684381366, shape=(), dtype=float64)\n"
          ]
        }
      ]
    },
    {
      "cell_type": "code",
      "source": [
        "train_data = tf.data.Dataset.zip((ds_x, ds_y)).batch(32)\n",
        "\n",
        "# for x, y in train_data.take(1):\n",
        "#   print(x[:3])"
      ],
      "metadata": {
        "id": "_F4cJS92j6oI"
      },
      "execution_count": null,
      "outputs": []
    },
    {
      "cell_type": "code",
      "source": [
        "def windowed_dataset(x, y, window_size, batch_size, shuffle):\n",
        "  # X (거시 경제 변수)\n",
        "  ds_x = tf.data.Dataset.from_tensor_slices(x)\n",
        "  ds_x = ds_x.window(window_size, shift=1, stride=1, drop_remainder=True)\n",
        "  ds_x = ds_x.flat_map(lambda w: w.batch(window_size))\n",
        "\n",
        "  # Y (코스피 종가)\n",
        "  ds_y = tf.data.Dataset.from_tensor_slices(y[WINDOW_SIZE:])\n",
        "  ds = tf.data.Dataset.zip((ds_x, ds_y))\n",
        "  if shuffle:\n",
        "    ds = ds.shuffle(1000)\n",
        "  return ds.batch(batch_size).prefetch(1)"
      ],
      "metadata": {
        "id": "2APqZFu0c6Bg"
      },
      "execution_count": null,
      "outputs": []
    },
    {
      "cell_type": "markdown",
      "source": [
        "## **Train Data와 Test Data 형성**"
      ],
      "metadata": {
        "id": "D_M7o8O6RjbQ"
      }
    },
    {
      "cell_type": "code",
      "source": [
        "# train_data는 학습용 데이터셋, test_data는 검증용 데이터셋 입니다.\n",
        "train_data = windowed_dataset(x_train1, y_train, WINDOW_SIZE, BATCH_SIZE, True)\n",
        "test_data = windowed_dataset(x_test1, y_test, WINDOW_SIZE, BATCH_SIZE, False)"
      ],
      "metadata": {
        "id": "PjB3MJAqdD2E"
      },
      "execution_count": null,
      "outputs": []
    },
    {
      "cell_type": "code",
      "source": [
        "# 아래의 코드로 데이터셋의 구성을 확인해 볼 수 있습니다.\n",
        "# X: (batch_size, window_size, feature)\n",
        "# Y: (batch_size, feature)\n",
        "for data in train_data.take(1):\n",
        "    print(f'데이터셋(X) 구성(batch_size, window_size, feature갯수): {data[0].shape}')\n",
        "    print(f'데이터셋(Y) 구성(batch_size, window_size, feature갯수): {data[1].shape}')"
      ],
      "metadata": {
        "colab": {
          "base_uri": "https://localhost:8080/"
        },
        "id": "nRAztOTTdF25",
        "outputId": "311d873d-25e9-4102-d539-3e48874a6471"
      },
      "execution_count": null,
      "outputs": [
        {
          "output_type": "stream",
          "name": "stdout",
          "text": [
            "데이터셋(X) 구성(batch_size, window_size, feature갯수): (32, 20, 13)\n",
            "데이터셋(Y) 구성(batch_size, window_size, feature갯수): (32,)\n"
          ]
        }
      ]
    },
    {
      "cell_type": "markdown",
      "source": [
        "## **Deep Learning 모델**"
      ],
      "metadata": {
        "id": "FGnNvS8MSFBz"
      }
    },
    {
      "cell_type": "code",
      "source": [
        "from tensorflow.keras.models import Sequential\n",
        "from tensorflow.keras.layers import Dense, LSTM, Conv1D, Lambda\n",
        "from tensorflow.keras.losses import Huber\n",
        "from tensorflow.keras.optimizers import Adam\n",
        "from tensorflow.keras.callbacks import EarlyStopping, ModelCheckpoint\n",
        "\n",
        "#LSTM 의 활성화 함수는 tanh 함수 적용, 그 다음 layer 는 relu 활성화 함수를 사용함.\n",
        "#직접 모델을 구현한 것은 아니고 모델 형태를 참고, input_shape을 맞춰졌음.\n",
        "model = Sequential([\n",
        "    # 1차원 feature map 생성\n",
        "    Conv1D(filters=32, kernel_size=5,\n",
        "           padding=\"causal\",\n",
        "           activation=\"relu\",\n",
        "           input_shape=[WINDOW_SIZE, 13]), # 한번에 참고되는 input_shape가 20(일) x 13(개의 변수 ex)WTI, VIX, 환율..) 형태로 되어 있는 벡터\n",
        "    # LSTM\n",
        "    LSTM(16, activation='tanh'),\n",
        "    Dense(16, activation=\"relu\"),\n",
        "    Dense(1),\n",
        "])"
      ],
      "metadata": {
        "id": "EGbEhrvcdKvE"
      },
      "execution_count": null,
      "outputs": []
    },
    {
      "cell_type": "code",
      "source": [
        "# Sequence 학습에 비교적 좋은 퍼포먼스를 내는 Huber()를 사용합니다.\n",
        "loss = Huber()\n",
        "optimizer = Adam(0.0005)\n",
        "model.compile(loss=Huber(), optimizer=optimizer, metrics=['mse'])"
      ],
      "metadata": {
        "id": "6VR5uecOdMf2"
      },
      "execution_count": null,
      "outputs": []
    },
    {
      "cell_type": "code",
      "source": [
        "# earlystopping은 10번 epoch통안 val_loss 개선이 없다면 학습을 멈춥니다.\n",
        "earlystopping = EarlyStopping(monitor='val_loss', patience=10)\n",
        "# val_loss 기준 체크포인터도 생성합니다.\n",
        "filename = os.path.join('tmp', 'ckeckpointer.ckpt')\n",
        "checkpoint = ModelCheckpoint(filename, \n",
        "                             save_weights_only=True, \n",
        "                             save_best_only=True, \n",
        "                             monitor='val_loss', \n",
        "                             verbose=1)"
      ],
      "metadata": {
        "id": "cxl-cN7ZdOJt"
      },
      "execution_count": null,
      "outputs": []
    },
    {
      "cell_type": "markdown",
      "source": [
        "## **모델 FITTING**"
      ],
      "metadata": {
        "id": "tvy5Hg6DSpE3"
      }
    },
    {
      "cell_type": "code",
      "source": [
        "history = model.fit(train_data, \n",
        "                    validation_data=(test_data), \n",
        "                    epochs=50, \n",
        "                    callbacks=[checkpoint, earlystopping])"
      ],
      "metadata": {
        "id": "n0pp-hz6dPSq",
        "colab": {
          "base_uri": "https://localhost:8080/"
        },
        "outputId": "0b87ede9-c2fb-4e4a-c6a7-14f5d2e152a0"
      },
      "execution_count": null,
      "outputs": [
        {
          "output_type": "stream",
          "name": "stdout",
          "text": [
            "Epoch 1/50\n",
            "     97/Unknown - 4s 14ms/step - loss: 0.0019 - mse: 0.0037\n",
            "Epoch 1: val_loss improved from inf to 0.00750, saving model to tmp/ckeckpointer.ckpt\n",
            "98/98 [==============================] - 5s 24ms/step - loss: 0.0019 - mse: 0.0037 - val_loss: 0.0075 - val_mse: 0.0150\n",
            "Epoch 2/50\n",
            "98/98 [==============================] - ETA: 0s - loss: 4.2511e-04 - mse: 8.5022e-04\n",
            "Epoch 2: val_loss improved from 0.00750 to 0.00655, saving model to tmp/ckeckpointer.ckpt\n",
            "98/98 [==============================] - 2s 17ms/step - loss: 4.2511e-04 - mse: 8.5022e-04 - val_loss: 0.0065 - val_mse: 0.0131\n",
            "Epoch 3/50\n",
            "95/98 [============================>.] - ETA: 0s - loss: 3.0606e-04 - mse: 6.1212e-04\n",
            "Epoch 3: val_loss improved from 0.00655 to 0.00494, saving model to tmp/ckeckpointer.ckpt\n",
            "98/98 [==============================] - 2s 17ms/step - loss: 3.0528e-04 - mse: 6.1056e-04 - val_loss: 0.0049 - val_mse: 0.0099\n",
            "Epoch 4/50\n",
            "95/98 [============================>.] - ETA: 0s - loss: 2.5264e-04 - mse: 5.0529e-04\n",
            "Epoch 4: val_loss improved from 0.00494 to 0.00410, saving model to tmp/ckeckpointer.ckpt\n",
            "98/98 [==============================] - 2s 19ms/step - loss: 2.5288e-04 - mse: 5.0576e-04 - val_loss: 0.0041 - val_mse: 0.0082\n",
            "Epoch 5/50\n",
            "98/98 [==============================] - ETA: 0s - loss: 1.9776e-04 - mse: 3.9552e-04\n",
            "Epoch 5: val_loss improved from 0.00410 to 0.00397, saving model to tmp/ckeckpointer.ckpt\n",
            "98/98 [==============================] - 2s 17ms/step - loss: 1.9776e-04 - mse: 3.9552e-04 - val_loss: 0.0040 - val_mse: 0.0079\n",
            "Epoch 6/50\n",
            "96/98 [============================>.] - ETA: 0s - loss: 1.6479e-04 - mse: 3.2958e-04\n",
            "Epoch 6: val_loss improved from 0.00397 to 0.00316, saving model to tmp/ckeckpointer.ckpt\n",
            "98/98 [==============================] - 2s 17ms/step - loss: 1.6489e-04 - mse: 3.2977e-04 - val_loss: 0.0032 - val_mse: 0.0063\n",
            "Epoch 7/50\n",
            "94/98 [===========================>..] - ETA: 0s - loss: 1.6418e-04 - mse: 3.2835e-04\n",
            "Epoch 7: val_loss improved from 0.00316 to 0.00255, saving model to tmp/ckeckpointer.ckpt\n",
            "98/98 [==============================] - 2s 19ms/step - loss: 1.6266e-04 - mse: 3.2531e-04 - val_loss: 0.0025 - val_mse: 0.0051\n",
            "Epoch 8/50\n",
            "97/98 [============================>.] - ETA: 0s - loss: 1.4453e-04 - mse: 2.8905e-04\n",
            "Epoch 8: val_loss improved from 0.00255 to 0.00224, saving model to tmp/ckeckpointer.ckpt\n",
            "98/98 [==============================] - 2s 17ms/step - loss: 1.4402e-04 - mse: 2.8805e-04 - val_loss: 0.0022 - val_mse: 0.0045\n",
            "Epoch 9/50\n",
            "97/98 [============================>.] - ETA: 0s - loss: 1.4979e-04 - mse: 2.9959e-04\n",
            "Epoch 9: val_loss improved from 0.00224 to 0.00181, saving model to tmp/ckeckpointer.ckpt\n",
            "98/98 [==============================] - 2s 19ms/step - loss: 1.4930e-04 - mse: 2.9861e-04 - val_loss: 0.0018 - val_mse: 0.0036\n",
            "Epoch 10/50\n",
            "97/98 [============================>.] - ETA: 0s - loss: 1.1822e-04 - mse: 2.3644e-04\n",
            "Epoch 10: val_loss did not improve from 0.00181\n",
            "98/98 [==============================] - 3s 26ms/step - loss: 1.1851e-04 - mse: 2.3702e-04 - val_loss: 0.0024 - val_mse: 0.0047\n",
            "Epoch 11/50\n",
            "97/98 [============================>.] - ETA: 0s - loss: 1.1424e-04 - mse: 2.2849e-04\n",
            "Epoch 11: val_loss did not improve from 0.00181\n",
            "98/98 [==============================] - 2s 21ms/step - loss: 1.1427e-04 - mse: 2.2854e-04 - val_loss: 0.0018 - val_mse: 0.0036\n",
            "Epoch 12/50\n",
            "95/98 [============================>.] - ETA: 0s - loss: 1.3263e-04 - mse: 2.6526e-04\n",
            "Epoch 12: val_loss did not improve from 0.00181\n",
            "98/98 [==============================] - 2s 16ms/step - loss: 1.3127e-04 - mse: 2.6254e-04 - val_loss: 0.0021 - val_mse: 0.0042\n",
            "Epoch 13/50\n",
            "95/98 [============================>.] - ETA: 0s - loss: 1.1258e-04 - mse: 2.2517e-04\n",
            "Epoch 13: val_loss did not improve from 0.00181\n",
            "98/98 [==============================] - 2s 17ms/step - loss: 1.1192e-04 - mse: 2.2383e-04 - val_loss: 0.0019 - val_mse: 0.0038\n",
            "Epoch 14/50\n",
            "96/98 [============================>.] - ETA: 0s - loss: 1.1854e-04 - mse: 2.3707e-04\n",
            "Epoch 14: val_loss improved from 0.00181 to 0.00166, saving model to tmp/ckeckpointer.ckpt\n",
            "98/98 [==============================] - 2s 17ms/step - loss: 1.1785e-04 - mse: 2.3569e-04 - val_loss: 0.0017 - val_mse: 0.0033\n",
            "Epoch 15/50\n",
            "97/98 [============================>.] - ETA: 0s - loss: 9.2053e-05 - mse: 1.8411e-04\n",
            "Epoch 15: val_loss did not improve from 0.00166\n",
            "98/98 [==============================] - 2s 16ms/step - loss: 9.2050e-05 - mse: 1.8410e-04 - val_loss: 0.0019 - val_mse: 0.0038\n",
            "Epoch 16/50\n",
            "97/98 [============================>.] - ETA: 0s - loss: 1.0784e-04 - mse: 2.1568e-04\n",
            "Epoch 16: val_loss improved from 0.00166 to 0.00161, saving model to tmp/ckeckpointer.ckpt\n",
            "98/98 [==============================] - 2s 16ms/step - loss: 1.0751e-04 - mse: 2.1501e-04 - val_loss: 0.0016 - val_mse: 0.0032\n",
            "Epoch 17/50\n",
            "97/98 [============================>.] - ETA: 0s - loss: 8.9108e-05 - mse: 1.7822e-04\n",
            "Epoch 17: val_loss improved from 0.00161 to 0.00127, saving model to tmp/ckeckpointer.ckpt\n",
            "98/98 [==============================] - 2s 18ms/step - loss: 8.8736e-05 - mse: 1.7747e-04 - val_loss: 0.0013 - val_mse: 0.0025\n",
            "Epoch 18/50\n",
            "97/98 [============================>.] - ETA: 0s - loss: 9.0422e-05 - mse: 1.8084e-04\n",
            "Epoch 18: val_loss did not improve from 0.00127\n",
            "98/98 [==============================] - 2s 17ms/step - loss: 9.0091e-05 - mse: 1.8018e-04 - val_loss: 0.0015 - val_mse: 0.0030\n",
            "Epoch 19/50\n",
            "95/98 [============================>.] - ETA: 0s - loss: 8.6574e-05 - mse: 1.7315e-04\n",
            "Epoch 19: val_loss did not improve from 0.00127\n",
            "98/98 [==============================] - 2s 17ms/step - loss: 8.5904e-05 - mse: 1.7181e-04 - val_loss: 0.0018 - val_mse: 0.0036\n",
            "Epoch 20/50\n",
            "98/98 [==============================] - ETA: 0s - loss: 8.4218e-05 - mse: 1.6844e-04\n",
            "Epoch 20: val_loss did not improve from 0.00127\n",
            "98/98 [==============================] - 2s 18ms/step - loss: 8.4218e-05 - mse: 1.6844e-04 - val_loss: 0.0014 - val_mse: 0.0027\n",
            "Epoch 21/50\n",
            "97/98 [============================>.] - ETA: 0s - loss: 8.0917e-05 - mse: 1.6183e-04\n",
            "Epoch 21: val_loss did not improve from 0.00127\n",
            "98/98 [==============================] - 2s 16ms/step - loss: 8.0678e-05 - mse: 1.6136e-04 - val_loss: 0.0014 - val_mse: 0.0028\n",
            "Epoch 22/50\n",
            "94/98 [===========================>..] - ETA: 0s - loss: 7.6313e-05 - mse: 1.5263e-04\n",
            "Epoch 22: val_loss did not improve from 0.00127\n",
            "98/98 [==============================] - 2s 17ms/step - loss: 7.5969e-05 - mse: 1.5194e-04 - val_loss: 0.0013 - val_mse: 0.0026\n",
            "Epoch 23/50\n",
            "95/98 [============================>.] - ETA: 0s - loss: 7.7281e-05 - mse: 1.5456e-04\n",
            "Epoch 23: val_loss improved from 0.00127 to 0.00126, saving model to tmp/ckeckpointer.ckpt\n",
            "98/98 [==============================] - 2s 18ms/step - loss: 7.7250e-05 - mse: 1.5450e-04 - val_loss: 0.0013 - val_mse: 0.0025\n",
            "Epoch 24/50\n",
            "95/98 [============================>.] - ETA: 0s - loss: 7.5300e-05 - mse: 1.5060e-04\n",
            "Epoch 24: val_loss did not improve from 0.00126\n",
            "98/98 [==============================] - 2s 17ms/step - loss: 7.4631e-05 - mse: 1.4926e-04 - val_loss: 0.0013 - val_mse: 0.0027\n",
            "Epoch 25/50\n",
            "94/98 [===========================>..] - ETA: 0s - loss: 9.4253e-05 - mse: 1.8851e-04\n",
            "Epoch 25: val_loss did not improve from 0.00126\n",
            "98/98 [==============================] - 2s 16ms/step - loss: 9.2403e-05 - mse: 1.8481e-04 - val_loss: 0.0015 - val_mse: 0.0030\n",
            "Epoch 26/50\n",
            "97/98 [============================>.] - ETA: 0s - loss: 8.0221e-05 - mse: 1.6044e-04\n",
            "Epoch 26: val_loss did not improve from 0.00126\n",
            "98/98 [==============================] - 2s 17ms/step - loss: 8.0171e-05 - mse: 1.6034e-04 - val_loss: 0.0013 - val_mse: 0.0026\n",
            "Epoch 27/50\n",
            "98/98 [==============================] - ETA: 0s - loss: 7.5589e-05 - mse: 1.5118e-04\n",
            "Epoch 27: val_loss did not improve from 0.00126\n",
            "98/98 [==============================] - 2s 17ms/step - loss: 7.5589e-05 - mse: 1.5118e-04 - val_loss: 0.0013 - val_mse: 0.0026\n",
            "Epoch 28/50\n",
            "98/98 [==============================] - ETA: 0s - loss: 7.5542e-05 - mse: 1.5108e-04\n",
            "Epoch 28: val_loss did not improve from 0.00126\n",
            "98/98 [==============================] - 2s 16ms/step - loss: 7.5542e-05 - mse: 1.5108e-04 - val_loss: 0.0013 - val_mse: 0.0025\n",
            "Epoch 29/50\n",
            "96/98 [============================>.] - ETA: 0s - loss: 8.8466e-05 - mse: 1.7693e-04\n",
            "Epoch 29: val_loss improved from 0.00126 to 0.00108, saving model to tmp/ckeckpointer.ckpt\n",
            "98/98 [==============================] - 2s 18ms/step - loss: 8.7681e-05 - mse: 1.7536e-04 - val_loss: 0.0011 - val_mse: 0.0022\n",
            "Epoch 30/50\n",
            "96/98 [============================>.] - ETA: 0s - loss: 8.1899e-05 - mse: 1.6380e-04\n",
            "Epoch 30: val_loss did not improve from 0.00108\n",
            "98/98 [==============================] - 2s 18ms/step - loss: 8.1449e-05 - mse: 1.6290e-04 - val_loss: 0.0012 - val_mse: 0.0025\n",
            "Epoch 31/50\n",
            "97/98 [============================>.] - ETA: 0s - loss: 7.0899e-05 - mse: 1.4180e-04\n",
            "Epoch 31: val_loss did not improve from 0.00108\n",
            "98/98 [==============================] - 2s 17ms/step - loss: 7.1084e-05 - mse: 1.4217e-04 - val_loss: 0.0012 - val_mse: 0.0023\n",
            "Epoch 32/50\n",
            "97/98 [============================>.] - ETA: 0s - loss: 8.1706e-05 - mse: 1.6341e-04\n",
            "Epoch 32: val_loss did not improve from 0.00108\n",
            "98/98 [==============================] - 2s 17ms/step - loss: 8.1749e-05 - mse: 1.6350e-04 - val_loss: 0.0013 - val_mse: 0.0026\n",
            "Epoch 33/50\n",
            "95/98 [============================>.] - ETA: 0s - loss: 7.9136e-05 - mse: 1.5827e-04\n",
            "Epoch 33: val_loss improved from 0.00108 to 0.00105, saving model to tmp/ckeckpointer.ckpt\n",
            "98/98 [==============================] - 2s 17ms/step - loss: 7.8452e-05 - mse: 1.5690e-04 - val_loss: 0.0011 - val_mse: 0.0021\n",
            "Epoch 34/50\n",
            "94/98 [===========================>..] - ETA: 0s - loss: 6.7355e-05 - mse: 1.3471e-04\n",
            "Epoch 34: val_loss did not improve from 0.00105\n",
            "98/98 [==============================] - 2s 18ms/step - loss: 6.6875e-05 - mse: 1.3375e-04 - val_loss: 0.0012 - val_mse: 0.0025\n",
            "Epoch 35/50\n",
            "96/98 [============================>.] - ETA: 0s - loss: 6.9059e-05 - mse: 1.3812e-04\n",
            "Epoch 35: val_loss did not improve from 0.00105\n",
            "98/98 [==============================] - 2s 17ms/step - loss: 6.8697e-05 - mse: 1.3739e-04 - val_loss: 0.0011 - val_mse: 0.0022\n",
            "Epoch 36/50\n",
            "94/98 [===========================>..] - ETA: 0s - loss: 6.8318e-05 - mse: 1.3664e-04\n",
            "Epoch 36: val_loss did not improve from 0.00105\n",
            "98/98 [==============================] - 2s 16ms/step - loss: 6.7775e-05 - mse: 1.3555e-04 - val_loss: 0.0011 - val_mse: 0.0022\n",
            "Epoch 37/50\n",
            "98/98 [==============================] - ETA: 0s - loss: 7.4944e-05 - mse: 1.4989e-04\n",
            "Epoch 37: val_loss did not improve from 0.00105\n",
            "98/98 [==============================] - 2s 16ms/step - loss: 7.4944e-05 - mse: 1.4989e-04 - val_loss: 0.0014 - val_mse: 0.0028\n",
            "Epoch 38/50\n",
            "98/98 [==============================] - ETA: 0s - loss: 6.3377e-05 - mse: 1.2675e-04\n",
            "Epoch 38: val_loss improved from 0.00105 to 0.00083, saving model to tmp/ckeckpointer.ckpt\n",
            "98/98 [==============================] - 2s 18ms/step - loss: 6.3377e-05 - mse: 1.2675e-04 - val_loss: 8.2890e-04 - val_mse: 0.0017\n",
            "Epoch 39/50\n",
            "97/98 [============================>.] - ETA: 0s - loss: 6.3203e-05 - mse: 1.2641e-04\n",
            "Epoch 39: val_loss did not improve from 0.00083\n",
            "98/98 [==============================] - 2s 17ms/step - loss: 6.3310e-05 - mse: 1.2662e-04 - val_loss: 0.0012 - val_mse: 0.0024\n",
            "Epoch 40/50\n",
            "96/98 [============================>.] - ETA: 0s - loss: 6.6604e-05 - mse: 1.3321e-04\n",
            "Epoch 40: val_loss did not improve from 0.00083\n",
            "98/98 [==============================] - 2s 16ms/step - loss: 6.6929e-05 - mse: 1.3386e-04 - val_loss: 0.0012 - val_mse: 0.0025\n",
            "Epoch 41/50\n",
            "97/98 [============================>.] - ETA: 0s - loss: 6.7686e-05 - mse: 1.3537e-04\n",
            "Epoch 41: val_loss did not improve from 0.00083\n",
            "98/98 [==============================] - 2s 17ms/step - loss: 6.7666e-05 - mse: 1.3533e-04 - val_loss: 9.7319e-04 - val_mse: 0.0019\n",
            "Epoch 42/50\n",
            "97/98 [============================>.] - ETA: 0s - loss: 6.7615e-05 - mse: 1.3523e-04\n",
            "Epoch 42: val_loss did not improve from 0.00083\n",
            "98/98 [==============================] - 2s 17ms/step - loss: 6.7842e-05 - mse: 1.3568e-04 - val_loss: 0.0011 - val_mse: 0.0022\n",
            "Epoch 43/50\n",
            "94/98 [===========================>..] - ETA: 0s - loss: 6.5815e-05 - mse: 1.3163e-04\n",
            "Epoch 43: val_loss did not improve from 0.00083\n",
            "98/98 [==============================] - 2s 17ms/step - loss: 6.5127e-05 - mse: 1.3025e-04 - val_loss: 0.0012 - val_mse: 0.0024\n",
            "Epoch 44/50\n",
            "95/98 [============================>.] - ETA: 0s - loss: 6.0435e-05 - mse: 1.2087e-04\n",
            "Epoch 44: val_loss did not improve from 0.00083\n",
            "98/98 [==============================] - 2s 18ms/step - loss: 6.0806e-05 - mse: 1.2161e-04 - val_loss: 0.0016 - val_mse: 0.0032\n",
            "Epoch 45/50\n",
            "98/98 [==============================] - ETA: 0s - loss: 6.2585e-05 - mse: 1.2517e-04\n",
            "Epoch 45: val_loss did not improve from 0.00083\n",
            "98/98 [==============================] - 2s 16ms/step - loss: 6.2585e-05 - mse: 1.2517e-04 - val_loss: 0.0010 - val_mse: 0.0021\n",
            "Epoch 46/50\n",
            "96/98 [============================>.] - ETA: 0s - loss: 6.1460e-05 - mse: 1.2292e-04\n",
            "Epoch 46: val_loss did not improve from 0.00083\n",
            "98/98 [==============================] - 2s 17ms/step - loss: 6.1368e-05 - mse: 1.2274e-04 - val_loss: 0.0011 - val_mse: 0.0022\n",
            "Epoch 47/50\n",
            "95/98 [============================>.] - ETA: 0s - loss: 6.4678e-05 - mse: 1.2936e-04\n",
            "Epoch 47: val_loss did not improve from 0.00083\n",
            "98/98 [==============================] - 2s 18ms/step - loss: 6.4633e-05 - mse: 1.2927e-04 - val_loss: 0.0014 - val_mse: 0.0027\n",
            "Epoch 48/50\n",
            "97/98 [============================>.] - ETA: 0s - loss: 6.2275e-05 - mse: 1.2455e-04\n",
            "Epoch 48: val_loss did not improve from 0.00083\n",
            "98/98 [==============================] - 2s 17ms/step - loss: 6.2085e-05 - mse: 1.2417e-04 - val_loss: 0.0014 - val_mse: 0.0029\n"
          ]
        }
      ]
    },
    {
      "cell_type": "markdown",
      "source": [
        "## **예측 진행**"
      ],
      "metadata": {
        "id": "IC6agcHtSrMC"
      }
    },
    {
      "cell_type": "code",
      "source": [
        "pred = model.predict(test_data)"
      ],
      "metadata": {
        "id": "Tyxf9ODZdtwz"
      },
      "execution_count": null,
      "outputs": []
    },
    {
      "cell_type": "code",
      "source": [
        "pred1 = pred.tolist()\n",
        "y_test1 = y_test.tolist()"
      ],
      "metadata": {
        "id": "ZvDjfYJj25PX"
      },
      "execution_count": null,
      "outputs": []
    },
    {
      "cell_type": "code",
      "source": [
        "for j in range(10):\n",
        "  print(\"예측값: \", round(float(pred[j]),4), \"실제값: \", round(y_test1[20+j],4), \"오차값: \", round(round(y_test1[20+j],4)-round(float(pred[j]),4),3))"
      ],
      "metadata": {
        "colab": {
          "base_uri": "https://localhost:8080/"
        },
        "id": "7Aq-dgyM3UkZ",
        "outputId": "d5f7c668-30e1-4c7d-a4f8-1e4c743ab4b9"
      },
      "execution_count": null,
      "outputs": [
        {
          "output_type": "stream",
          "name": "stdout",
          "text": [
            "예측값:  0.5943 실제값:  0.5862 오차값:  -0.008\n",
            "예측값:  0.5915 실제값:  0.5661 오차값:  -0.025\n",
            "예측값:  0.587 실제값:  0.563 오차값:  -0.024\n",
            "예측값:  0.5769 실제값:  0.5506 오차값:  -0.026\n",
            "예측값:  0.5695 실제값:  0.5375 오차값:  -0.032\n",
            "예측값:  0.5634 실제값:  0.5263 오차값:  -0.037\n",
            "예측값:  0.5521 실제값:  0.533 오차값:  -0.019\n",
            "예측값:  0.5489 실제값:  0.5384 오차값:  -0.011\n",
            "예측값:  0.5524 실제값:  0.5365 오차값:  -0.016\n",
            "예측값:  0.5604 실제값:  0.5624 오차값:  0.002\n"
          ]
        }
      ]
    },
    {
      "cell_type": "markdown",
      "source": [
        "### **실제값과 예측값 시각화**"
      ],
      "metadata": {
        "id": "XNfU_VVKSvqm"
      }
    },
    {
      "cell_type": "code",
      "source": [
        "plt.figure(figsize=(12, 9))\n",
        "plt.plot(np.asarray(y_test)[20:], label='actual')\n",
        "plt.plot(pred, label='prediction')\n",
        "plt.legend()\n",
        "plt.show()"
      ],
      "metadata": {
        "colab": {
          "base_uri": "https://localhost:8080/",
          "height": 488
        },
        "id": "V_pimw7Ydy--",
        "outputId": "2c32f42c-9670-45c7-9c01-53f8e48e65a8"
      },
      "execution_count": null,
      "outputs": [
        {
          "output_type": "display_data",
          "data": {
            "text/plain": [
              "<Figure size 864x648 with 1 Axes>"
            ],
            "image/png": "[encoded data removed]"
          },
          "metadata": {
            "needs_background": "light"
          }
        }
      ]
    },
    {
      "cell_type": "code",
      "source": [
        "model.summary()"
      ],
      "metadata": {
        "colab": {
          "base_uri": "https://localhost:8080/"
        },
        "id": "vpBsuiNNSCW3",
        "outputId": "4c9a357f-e3ec-4889-c560-9c4540b6b61f"
      },
      "execution_count": null,
      "outputs": [
        {
          "output_type": "stream",
          "name": "stdout",
          "text": [
            "Model: \"sequential_7\"\n",
            "_________________________________________________________________\n",
            " Layer (type)                Output Shape              Param #   \n",
            "=================================================================\n",
            " conv1d_7 (Conv1D)           (None, 20, 32)            2112      \n",
            "                                                                 \n",
            " lstm_7 (LSTM)               (None, 16)                3136      \n",
            "                                                                 \n",
            " dense_14 (Dense)            (None, 16)                272       \n",
            "                                                                 \n",
            " dense_15 (Dense)            (None, 1)                 17        \n",
            "                                                                 \n",
            "=================================================================\n",
            "Total params: 5,537\n",
            "Trainable params: 5,537\n",
            "Non-trainable params: 0\n",
            "_________________________________________________________________\n"
          ]
        }
      ]
    },
    {
      "cell_type": "code",
      "source": [
        "from sklearn.metrics import mean_squared_error, mean_squared_log_error\n",
        "\n",
        "print(\"MSE:\" + str(mean_squared_error(pred, y_test[20:])))\n",
        "print(\"RMSE:\" + str(np.sqrt(mean_squared_error(pred, y_test[20:]))))\n",
        "print(\"RSLE:\" + str(mean_squared_log_error(pred, y_test[20:])))"
      ],
      "metadata": {
        "colab": {
          "base_uri": "https://localhost:8080/"
        },
        "id": "BZUz7GPWSjG7",
        "outputId": "ca015ba4-67dd-40f2-849a-0ad3de3777dc"
      },
      "execution_count": null,
      "outputs": [
        {
          "output_type": "stream",
          "name": "stdout",
          "text": [
            "MSE:0.002865015752837427\n",
            "RMSE:0.05352584191619434\n",
            "RSLE:0.0008677889467807385\n"
          ]
        }
      ]
    }
  ]
}